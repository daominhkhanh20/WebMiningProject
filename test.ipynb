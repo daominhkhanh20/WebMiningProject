{
 "cells": [
  {
   "cell_type": "code",
   "execution_count": 10,
   "metadata": {},
   "outputs": [],
   "source": [
    "from src.dataset import AnnCommentDataset,AnnDataSource"
   ]
  },
  {
   "cell_type": "code",
   "execution_count": 11,
   "metadata": {},
   "outputs": [],
   "source": [
    "from src.learner import AnnLearner"
   ]
  },
  {
   "cell_type": "code",
   "execution_count": 12,
   "metadata": {},
   "outputs": [
    {
     "name": "stdout",
     "output_type": "stream",
     "text": [
      "2022-06-25 14:01:27,708 INFO  src.dataset.ann_datasource:36 - Start convert file final_test.csv to dataset\n",
      "2022-06-25 14:01:27,709 INFO  src.dataset.ann_datasource:36 - Start convert file final_train.csv to dataset\n",
      "2022-06-25 14:01:28,176 INFO  src.dataset.ann_datasource:47 - {'negative': 0, 'neural': 1, 'positive': 2}\n",
      "2022-06-25 14:01:28,177 INFO  src.dataset.ann_datasource:36 - Start convert file final_val.csv to dataset\n"
     ]
    }
   ],
   "source": [
    "datasource = AnnDataSource.init_datasource()"
   ]
  },
  {
   "cell_type": "code",
   "execution_count": 13,
   "metadata": {},
   "outputs": [],
   "source": [
    "ann_leaner = AnnLearner(mode='training',data_source=datasource,n_epochs=20,is_save_best_model=True,learning_rate=1e-4)"
   ]
  },
  {
   "cell_type": "code",
   "execution_count": 14,
   "metadata": {},
   "outputs": [
    {
     "name": "stdout",
     "output_type": "stream",
     "text": [
      "2022-06-25 14:01:28,647 INFO  src.learner.AnnLearner:160 - Start Training\n"
     ]
    },
    {
     "name": "stderr",
     "output_type": "stream",
     "text": [
      "100%|██████████| 101/101 [00:06<00:00, 14.74it/s]"
     ]
    },
    {
     "name": "stdout",
     "output_type": "stream",
     "text": [
      "2022-06-25 14:01:35,514 INFO  src.learner.AnnLearner:165 - Start evaluate\n"
     ]
    },
    {
     "name": "stderr",
     "output_type": "stream",
     "text": [
      "\n",
      "100%|██████████| 12/12 [00:00<00:00, 85.60it/s]"
     ]
    },
    {
     "name": "stdout",
     "output_type": "stream",
     "text": [
      "2022-06-25 14:01:35,698 INFO  src.learner.AnnLearner:124 - Save model done\n"
     ]
    },
    {
     "name": "stderr",
     "output_type": "stream",
     "text": [
      "\n"
     ]
    },
    {
     "name": "stdout",
     "output_type": "stream",
     "text": [
      "2022-06-25 14:01:35,699 INFO  src.learner.AnnLearner:173 - Epoch: 0 --- Training loss: 1.1027857490105204 --- Train acc: 0.22997658079625294 --- Val loss: 1.099628080924352 --- Val acc: 0.3103932584269663Time: 7.052128553390503s\n",
      "2022-06-25 14:01:35,700 INFO  src.learner.AnnLearner:177 - Start testing\n"
     ]
    },
    {
     "name": "stderr",
     "output_type": "stream",
     "text": [
      "100%|██████████| 13/13 [00:00<00:00, 89.10it/s]"
     ]
    },
    {
     "name": "stdout",
     "output_type": "stream",
     "text": [
      "2022-06-25 14:01:35,859 INFO  src.learner.AnnLearner:151 - Detail result for testing\n",
      "+---------------------+--------------------+--------------------+\n",
      "|      f1_score       |    recall_score    |   accuracy_score   |\n",
      "+---------------------+--------------------+--------------------+\n",
      "| 0.15610062969168698 | 0.3211125158027813 | 0.3211125158027813 |\n",
      "+---------------------+--------------------+--------------------+\n",
      "2022-06-25 14:01:35,861 INFO  src.learner.AnnLearner:160 - Start Training\n"
     ]
    },
    {
     "name": "stderr",
     "output_type": "stream",
     "text": [
      "\n",
      "100%|██████████| 101/101 [00:07<00:00, 12.88it/s]"
     ]
    },
    {
     "name": "stdout",
     "output_type": "stream",
     "text": [
      "2022-06-25 14:01:43,711 INFO  src.learner.AnnLearner:165 - Start evaluate\n"
     ]
    },
    {
     "name": "stderr",
     "output_type": "stream",
     "text": [
      "\n",
      "100%|██████████| 12/12 [00:00<00:00, 138.84it/s]"
     ]
    },
    {
     "name": "stdout",
     "output_type": "stream",
     "text": [
      "2022-06-25 14:01:43,805 INFO  src.learner.AnnLearner:173 - Epoch: 1 --- Training loss: 1.0922704215096954 --- Train acc: 0.2849336455893833 --- Val loss: 1.081321805715561 --- Val acc: 0.3103932584269663Time: 7.943570852279663s\n",
      "2022-06-25 14:01:43,806 INFO  src.learner.AnnLearner:177 - Start testing\n"
     ]
    },
    {
     "name": "stderr",
     "output_type": "stream",
     "text": [
      "\n",
      "100%|██████████| 13/13 [00:00<00:00, 126.96it/s]"
     ]
    },
    {
     "name": "stdout",
     "output_type": "stream",
     "text": [
      "2022-06-25 14:01:43,919 INFO  src.learner.AnnLearner:151 - Detail result for testing\n",
      "+---------------------+--------------------+--------------------+\n",
      "|      f1_score       |    recall_score    |   accuracy_score   |\n",
      "+---------------------+--------------------+--------------------+\n",
      "| 0.15610062969168698 | 0.3211125158027813 | 0.3211125158027813 |\n",
      "+---------------------+--------------------+--------------------+\n",
      "2022-06-25 14:01:43,921 INFO  src.learner.AnnLearner:160 - Start Training\n"
     ]
    },
    {
     "name": "stderr",
     "output_type": "stream",
     "text": [
      "\n",
      "100%|██████████| 101/101 [00:06<00:00, 15.73it/s]"
     ]
    },
    {
     "name": "stdout",
     "output_type": "stream",
     "text": [
      "2022-06-25 14:01:50,352 INFO  src.learner.AnnLearner:165 - Start evaluate\n"
     ]
    },
    {
     "name": "stderr",
     "output_type": "stream",
     "text": [
      "\n",
      "100%|██████████| 12/12 [00:00<00:00, 127.94it/s]"
     ]
    },
    {
     "name": "stdout",
     "output_type": "stream",
     "text": [
      "2022-06-25 14:01:50,452 INFO  src.learner.AnnLearner:173 - Epoch: 2 --- Training loss: 1.0693292051258654 --- Train acc: 0.287743950039032 --- Val loss: 1.0624221762021382 --- Val acc: 0.3103932584269663Time: 6.531464576721191s\n",
      "2022-06-25 14:01:50,454 INFO  src.learner.AnnLearner:177 - Start testing\n"
     ]
    },
    {
     "name": "stderr",
     "output_type": "stream",
     "text": [
      "\n",
      "100%|██████████| 13/13 [00:00<00:00, 128.00it/s]"
     ]
    },
    {
     "name": "stdout",
     "output_type": "stream",
     "text": [
      "2022-06-25 14:01:50,570 INFO  src.learner.AnnLearner:151 - Detail result for testing\n",
      "+---------------------+--------------------+--------------------+\n",
      "|      f1_score       |    recall_score    |   accuracy_score   |\n",
      "+---------------------+--------------------+--------------------+\n",
      "| 0.15610062969168698 | 0.3211125158027813 | 0.3211125158027813 |\n",
      "+---------------------+--------------------+--------------------+\n",
      "2022-06-25 14:01:50,571 INFO  src.learner.AnnLearner:160 - Start Training\n"
     ]
    },
    {
     "name": "stderr",
     "output_type": "stream",
     "text": [
      "\n",
      "100%|██████████| 101/101 [00:06<00:00, 16.45it/s]"
     ]
    },
    {
     "name": "stdout",
     "output_type": "stream",
     "text": [
      "2022-06-25 14:01:56,723 INFO  src.learner.AnnLearner:165 - Start evaluate\n"
     ]
    },
    {
     "name": "stderr",
     "output_type": "stream",
     "text": [
      "\n",
      "100%|██████████| 12/12 [00:00<00:00, 97.61it/s]"
     ]
    },
    {
     "name": "stdout",
     "output_type": "stream",
     "text": [
      "2022-06-25 14:01:56,887 INFO  src.learner.AnnLearner:124 - Save model done\n",
      "2022-06-25 14:01:56,888 INFO  src.learner.AnnLearner:173 - Epoch: 3 --- Training loss: 1.0447154434600678 --- Train acc: 0.2869633099141296 --- Val loss: 1.0494463443756104 --- Val acc: 0.31179775280898875Time: 6.317054986953735s\n",
      "2022-06-25 14:01:56,889 INFO  src.learner.AnnLearner:177 - Start testing\n"
     ]
    },
    {
     "name": "stderr",
     "output_type": "stream",
     "text": [
      "\n",
      "100%|██████████| 13/13 [00:00<00:00, 123.78it/s]"
     ]
    },
    {
     "name": "stdout",
     "output_type": "stream",
     "text": [
      "2022-06-25 14:01:57,006 INFO  src.learner.AnnLearner:151 - Detail result for testing\n",
      "+---------------------+--------------------+--------------------+\n",
      "|      f1_score       |    recall_score    |   accuracy_score   |\n",
      "+---------------------+--------------------+--------------------+\n",
      "| 0.15877245937151546 | 0.3223767383059418 | 0.3223767383059418 |\n",
      "+---------------------+--------------------+--------------------+\n",
      "2022-06-25 14:01:57,008 INFO  src.learner.AnnLearner:160 - Start Training\n"
     ]
    },
    {
     "name": "stderr",
     "output_type": "stream",
     "text": [
      "\n",
      "100%|██████████| 101/101 [00:06<00:00, 15.48it/s]"
     ]
    },
    {
     "name": "stdout",
     "output_type": "stream",
     "text": [
      "2022-06-25 14:02:03,544 INFO  src.learner.AnnLearner:165 - Start evaluate\n"
     ]
    },
    {
     "name": "stderr",
     "output_type": "stream",
     "text": [
      "\n",
      "100%|██████████| 12/12 [00:00<00:00, 77.50it/s]\n"
     ]
    },
    {
     "name": "stdout",
     "output_type": "stream",
     "text": [
      "2022-06-25 14:02:03,733 INFO  src.learner.AnnLearner:124 - Save model done\n",
      "2022-06-25 14:02:03,734 INFO  src.learner.AnnLearner:173 - Epoch: 4 --- Training loss: 1.0174538776426032 --- Train acc: 0.41530054644808745 --- Val loss: 1.033627028266589 --- Val acc: 0.6165730337078652Time: 6.725632429122925s\n",
      "2022-06-25 14:02:03,736 INFO  src.learner.AnnLearner:177 - Start testing\n"
     ]
    },
    {
     "name": "stderr",
     "output_type": "stream",
     "text": [
      "100%|██████████| 13/13 [00:00<00:00, 123.59it/s]"
     ]
    },
    {
     "name": "stdout",
     "output_type": "stream",
     "text": [
      "2022-06-25 14:02:03,853 INFO  src.learner.AnnLearner:151 - Detail result for testing\n",
      "+--------------------+--------------------+--------------------+\n",
      "|      f1_score      |    recall_score    |   accuracy_score   |\n",
      "+--------------------+--------------------+--------------------+\n",
      "| 0.6177878504869818 | 0.6700379266750948 | 0.6700379266750948 |\n",
      "+--------------------+--------------------+--------------------+\n",
      "2022-06-25 14:02:03,855 INFO  src.learner.AnnLearner:160 - Start Training\n"
     ]
    },
    {
     "name": "stderr",
     "output_type": "stream",
     "text": [
      "\n",
      "100%|██████████| 101/101 [00:05<00:00, 17.36it/s]"
     ]
    },
    {
     "name": "stdout",
     "output_type": "stream",
     "text": [
      "2022-06-25 14:02:09,685 INFO  src.learner.AnnLearner:165 - Start evaluate\n"
     ]
    },
    {
     "name": "stderr",
     "output_type": "stream",
     "text": [
      "\n",
      "100%|██████████| 12/12 [00:00<00:00, 101.48it/s]"
     ]
    },
    {
     "name": "stdout",
     "output_type": "stream",
     "text": [
      "2022-06-25 14:02:09,844 INFO  src.learner.AnnLearner:124 - Save model done\n"
     ]
    },
    {
     "name": "stderr",
     "output_type": "stream",
     "text": [
      "\n"
     ]
    },
    {
     "name": "stdout",
     "output_type": "stream",
     "text": [
      "2022-06-25 14:02:09,845 INFO  src.learner.AnnLearner:173 - Epoch: 5 --- Training loss: 0.9799158047921587 --- Train acc: 0.6591725214676034 --- Val loss: 1.0060555040836334 --- Val acc: 0.6601123595505618Time: 5.98991847038269s\n",
      "2022-06-25 14:02:09,847 INFO  src.learner.AnnLearner:177 - Start testing\n"
     ]
    },
    {
     "name": "stderr",
     "output_type": "stream",
     "text": [
      "100%|██████████| 13/13 [00:00<00:00, 113.64it/s]"
     ]
    },
    {
     "name": "stdout",
     "output_type": "stream",
     "text": [
      "2022-06-25 14:02:09,975 INFO  src.learner.AnnLearner:151 - Detail result for testing\n"
     ]
    },
    {
     "name": "stderr",
     "output_type": "stream",
     "text": [
      "\n"
     ]
    },
    {
     "name": "stdout",
     "output_type": "stream",
     "text": [
      "+--------------------+--------------------+--------------------+\n",
      "|      f1_score      |    recall_score    |   accuracy_score   |\n",
      "+--------------------+--------------------+--------------------+\n",
      "| 0.6512505904444988 | 0.7117572692793932 | 0.7117572692793932 |\n",
      "+--------------------+--------------------+--------------------+\n",
      "2022-06-25 14:02:09,976 INFO  src.learner.AnnLearner:160 - Start Training\n"
     ]
    },
    {
     "name": "stderr",
     "output_type": "stream",
     "text": [
      "100%|██████████| 101/101 [00:05<00:00, 17.00it/s]"
     ]
    },
    {
     "name": "stdout",
     "output_type": "stream",
     "text": [
      "2022-06-25 14:02:15,928 INFO  src.learner.AnnLearner:165 - Start evaluate\n"
     ]
    },
    {
     "name": "stderr",
     "output_type": "stream",
     "text": [
      "\n",
      "100%|██████████| 12/12 [00:00<00:00, 143.24it/s]\n"
     ]
    },
    {
     "name": "stdout",
     "output_type": "stream",
     "text": [
      "2022-06-25 14:02:16,036 INFO  src.learner.AnnLearner:124 - Save model done\n",
      "2022-06-25 14:02:16,037 INFO  src.learner.AnnLearner:173 - Epoch: 6 --- Training loss: 0.9306427978052951 --- Train acc: 0.6804059328649492 --- Val loss: 0.9234760403633118 --- Val acc: 0.6671348314606742Time: 6.061536073684692s\n",
      "2022-06-25 14:02:16,037 INFO  src.learner.AnnLearner:177 - Start testing\n"
     ]
    },
    {
     "name": "stderr",
     "output_type": "stream",
     "text": [
      "100%|██████████| 13/13 [00:00<00:00, 91.57it/s]"
     ]
    },
    {
     "name": "stdout",
     "output_type": "stream",
     "text": [
      "2022-06-25 14:02:16,192 INFO  src.learner.AnnLearner:151 - Detail result for testing\n"
     ]
    },
    {
     "name": "stderr",
     "output_type": "stream",
     "text": [
      "\n"
     ]
    },
    {
     "name": "stdout",
     "output_type": "stream",
     "text": [
      "+--------------------+--------------------+--------------------+\n",
      "|      f1_score      |    recall_score    |   accuracy_score   |\n",
      "+--------------------+--------------------+--------------------+\n",
      "| 0.6522682957737858 | 0.7142857142857143 | 0.7142857142857143 |\n",
      "+--------------------+--------------------+--------------------+\n",
      "2022-06-25 14:02:16,194 INFO  src.learner.AnnLearner:160 - Start Training\n"
     ]
    },
    {
     "name": "stderr",
     "output_type": "stream",
     "text": [
      "100%|██████████| 101/101 [00:05<00:00, 17.88it/s]"
     ]
    },
    {
     "name": "stdout",
     "output_type": "stream",
     "text": [
      "2022-06-25 14:02:21,848 INFO  src.learner.AnnLearner:165 - Start evaluate\n"
     ]
    },
    {
     "name": "stderr",
     "output_type": "stream",
     "text": [
      "\n",
      "100%|██████████| 12/12 [00:00<00:00, 138.86it/s]"
     ]
    },
    {
     "name": "stdout",
     "output_type": "stream",
     "text": [
      "2022-06-25 14:02:21,940 INFO  src.learner.AnnLearner:173 - Epoch: 7 --- Training loss: 0.8415711014577658 --- Train acc: 0.7044496487119438 --- Val loss: 0.8814650277296702 --- Val acc: 0.6671348314606742Time: 5.746304273605347s\n",
      "2022-06-25 14:02:21,942 INFO  src.learner.AnnLearner:177 - Start testing\n"
     ]
    },
    {
     "name": "stderr",
     "output_type": "stream",
     "text": [
      "\n",
      "100%|██████████| 13/13 [00:00<00:00, 61.89it/s]"
     ]
    },
    {
     "name": "stdout",
     "output_type": "stream",
     "text": [
      "2022-06-25 14:02:22,166 INFO  src.learner.AnnLearner:151 - Detail result for testing\n",
      "+--------------------+--------------------+--------------------+\n",
      "|      f1_score      |    recall_score    |   accuracy_score   |\n",
      "+--------------------+--------------------+--------------------+\n",
      "| 0.6494393843097291 | 0.7117572692793932 | 0.7117572692793932 |\n",
      "+--------------------+--------------------+--------------------+\n",
      "2022-06-25 14:02:22,168 INFO  src.learner.AnnLearner:160 - Start Training\n"
     ]
    },
    {
     "name": "stderr",
     "output_type": "stream",
     "text": [
      "\n",
      "100%|██████████| 101/101 [00:05<00:00, 18.77it/s]"
     ]
    },
    {
     "name": "stdout",
     "output_type": "stream",
     "text": [
      "2022-06-25 14:02:27,559 INFO  src.learner.AnnLearner:165 - Start evaluate\n"
     ]
    },
    {
     "name": "stderr",
     "output_type": "stream",
     "text": [
      "\n",
      "100%|██████████| 12/12 [00:00<00:00, 142.93it/s]"
     ]
    },
    {
     "name": "stdout",
     "output_type": "stream",
     "text": [
      "2022-06-25 14:02:27,648 INFO  src.learner.AnnLearner:173 - Epoch: 8 --- Training loss: 0.8130648248266465 --- Train acc: 0.7089773614363778 --- Val loss: 0.8833306084076563 --- Val acc: 0.6615168539325843Time: 5.480368137359619s\n",
      "2022-06-25 14:02:27,649 INFO  src.learner.AnnLearner:177 - Start testing\n"
     ]
    },
    {
     "name": "stderr",
     "output_type": "stream",
     "text": [
      "\n",
      "100%|██████████| 13/13 [00:00<00:00, 92.12it/s]"
     ]
    },
    {
     "name": "stdout",
     "output_type": "stream",
     "text": [
      "2022-06-25 14:02:27,804 INFO  src.learner.AnnLearner:151 - Detail result for testing\n",
      "+--------------------+--------------------+--------------------+\n",
      "|      f1_score      |    recall_score    |   accuracy_score   |\n",
      "+--------------------+--------------------+--------------------+\n",
      "| 0.6532219711553816 | 0.7168141592920354 | 0.7168141592920354 |\n",
      "+--------------------+--------------------+--------------------+\n",
      "2022-06-25 14:02:27,806 INFO  src.learner.AnnLearner:160 - Start Training\n"
     ]
    },
    {
     "name": "stderr",
     "output_type": "stream",
     "text": [
      "\n",
      "100%|██████████| 101/101 [00:06<00:00, 16.51it/s]"
     ]
    },
    {
     "name": "stdout",
     "output_type": "stream",
     "text": [
      "2022-06-25 14:02:33,938 INFO  src.learner.AnnLearner:165 - Start evaluate\n"
     ]
    },
    {
     "name": "stderr",
     "output_type": "stream",
     "text": [
      "\n",
      "100%|██████████| 12/12 [00:00<00:00, 130.44it/s]"
     ]
    },
    {
     "name": "stdout",
     "output_type": "stream",
     "text": [
      "2022-06-25 14:02:34,036 INFO  src.learner.AnnLearner:173 - Epoch: 9 --- Training loss: 0.8071551311134112 --- Train acc: 0.7071038251366121 --- Val loss: 0.8786849329868952 --- Val acc: 0.6615168539325843Time: 6.230018854141235s\n",
      "2022-06-25 14:02:34,036 INFO  src.learner.AnnLearner:177 - Start testing\n"
     ]
    },
    {
     "name": "stderr",
     "output_type": "stream",
     "text": [
      "\n",
      "100%|██████████| 13/13 [00:00<00:00, 146.42it/s]"
     ]
    },
    {
     "name": "stdout",
     "output_type": "stream",
     "text": [
      "2022-06-25 14:02:34,138 INFO  src.learner.AnnLearner:151 - Detail result for testing\n",
      "+--------------------+--------------------+--------------------+\n",
      "|      f1_score      |    recall_score    |   accuracy_score   |\n",
      "+--------------------+--------------------+--------------------+\n",
      "| 0.6519870984472755 | 0.7155499367888748 | 0.7155499367888748 |\n",
      "+--------------------+--------------------+--------------------+\n",
      "2022-06-25 14:02:34,139 INFO  src.learner.AnnLearner:160 - Start Training\n"
     ]
    },
    {
     "name": "stderr",
     "output_type": "stream",
     "text": [
      "\n",
      "100%|██████████| 101/101 [00:06<00:00, 16.17it/s]"
     ]
    },
    {
     "name": "stdout",
     "output_type": "stream",
     "text": [
      "2022-06-25 14:02:40,395 INFO  src.learner.AnnLearner:165 - Start evaluate\n"
     ]
    },
    {
     "name": "stderr",
     "output_type": "stream",
     "text": [
      "\n",
      "100%|██████████| 12/12 [00:00<00:00, 182.31it/s]"
     ]
    },
    {
     "name": "stdout",
     "output_type": "stream",
     "text": [
      "2022-06-25 14:02:40,465 INFO  src.learner.AnnLearner:173 - Epoch: 10 --- Training loss: 0.7925698621438282 --- Train acc: 0.7508196721311475 --- Val loss: 0.8843354980150858 --- Val acc: 0.6671348314606742Time: 6.3264830112457275s\n",
      "2022-06-25 14:02:40,466 INFO  src.learner.AnnLearner:177 - Start testing\n"
     ]
    },
    {
     "name": "stderr",
     "output_type": "stream",
     "text": [
      "\n",
      "100%|██████████| 13/13 [00:00<00:00, 169.28it/s]"
     ]
    },
    {
     "name": "stdout",
     "output_type": "stream",
     "text": [
      "2022-06-25 14:02:40,555 INFO  src.learner.AnnLearner:151 - Detail result for testing\n",
      "+--------------------+--------------------+--------------------+\n",
      "|      f1_score      |    recall_score    |   accuracy_score   |\n",
      "+--------------------+--------------------+--------------------+\n",
      "| 0.6529708461924546 | 0.7168141592920354 | 0.7168141592920354 |\n",
      "+--------------------+--------------------+--------------------+\n",
      "2022-06-25 14:02:40,557 INFO  src.learner.AnnLearner:160 - Start Training\n"
     ]
    },
    {
     "name": "stderr",
     "output_type": "stream",
     "text": [
      "\n",
      "100%|██████████| 101/101 [00:06<00:00, 16.37it/s]"
     ]
    },
    {
     "name": "stdout",
     "output_type": "stream",
     "text": [
      "2022-06-25 14:02:46,736 INFO  src.learner.AnnLearner:165 - Start evaluate\n"
     ]
    },
    {
     "name": "stderr",
     "output_type": "stream",
     "text": [
      "\n",
      "100%|██████████| 12/12 [00:00<00:00, 133.01it/s]"
     ]
    },
    {
     "name": "stdout",
     "output_type": "stream",
     "text": [
      "2022-06-25 14:02:46,857 INFO  src.learner.AnnLearner:124 - Save model done\n",
      "2022-06-25 14:02:46,857 INFO  src.learner.AnnLearner:173 - Epoch: 11 --- Training loss: 0.7650333932130644 --- Train acc: 0.7925058548009367 --- Val loss: 0.8633256802956263 --- Val acc: 0.6699438202247191Time: 6.299643516540527s\n",
      "2022-06-25 14:02:46,858 INFO  src.learner.AnnLearner:177 - Start testing\n"
     ]
    },
    {
     "name": "stderr",
     "output_type": "stream",
     "text": [
      "\n",
      "100%|██████████| 13/13 [00:00<00:00, 143.24it/s]"
     ]
    },
    {
     "name": "stdout",
     "output_type": "stream",
     "text": [
      "2022-06-25 14:02:46,958 INFO  src.learner.AnnLearner:151 - Detail result for testing\n",
      "+--------------------+--------------------+--------------------+\n",
      "|      f1_score      |    recall_score    |   accuracy_score   |\n",
      "+--------------------+--------------------+--------------------+\n",
      "| 0.6523871180958327 | 0.7155499367888748 | 0.7155499367888748 |\n",
      "+--------------------+--------------------+--------------------+\n",
      "2022-06-25 14:02:46,959 INFO  src.learner.AnnLearner:160 - Start Training\n"
     ]
    },
    {
     "name": "stderr",
     "output_type": "stream",
     "text": [
      "\n",
      "100%|██████████| 101/101 [00:05<00:00, 17.12it/s]"
     ]
    },
    {
     "name": "stdout",
     "output_type": "stream",
     "text": [
      "2022-06-25 14:02:52,869 INFO  src.learner.AnnLearner:165 - Start evaluate\n"
     ]
    },
    {
     "name": "stderr",
     "output_type": "stream",
     "text": [
      "\n",
      "100%|██████████| 12/12 [00:00<00:00, 152.65it/s]"
     ]
    },
    {
     "name": "stdout",
     "output_type": "stream",
     "text": [
      "2022-06-25 14:02:52,952 INFO  src.learner.AnnLearner:173 - Epoch: 12 --- Training loss: 0.7614463160533717 --- Train acc: 0.7907884465261514 --- Val loss: 0.8824087778727213 --- Val acc: 0.6643258426966292Time: 5.993182420730591s\n",
      "2022-06-25 14:02:52,953 INFO  src.learner.AnnLearner:177 - Start testing\n"
     ]
    },
    {
     "name": "stderr",
     "output_type": "stream",
     "text": [
      "\n",
      "100%|██████████| 13/13 [00:00<00:00, 149.83it/s]"
     ]
    },
    {
     "name": "stdout",
     "output_type": "stream",
     "text": [
      "2022-06-25 14:02:53,052 INFO  src.learner.AnnLearner:151 - Detail result for testing\n"
     ]
    },
    {
     "name": "stderr",
     "output_type": "stream",
     "text": [
      "\n"
     ]
    },
    {
     "name": "stdout",
     "output_type": "stream",
     "text": [
      "+--------------------+--------------------+--------------------+\n",
      "|      f1_score      |    recall_score    |   accuracy_score   |\n",
      "+--------------------+--------------------+--------------------+\n",
      "| 0.6528399975215704 | 0.7168141592920354 | 0.7168141592920354 |\n",
      "+--------------------+--------------------+--------------------+\n",
      "2022-06-25 14:02:53,053 INFO  src.learner.AnnLearner:160 - Start Training\n"
     ]
    },
    {
     "name": "stderr",
     "output_type": "stream",
     "text": [
      "100%|██████████| 101/101 [00:05<00:00, 17.60it/s]"
     ]
    },
    {
     "name": "stdout",
     "output_type": "stream",
     "text": [
      "2022-06-25 14:02:58,800 INFO  src.learner.AnnLearner:165 - Start evaluate\n"
     ]
    },
    {
     "name": "stderr",
     "output_type": "stream",
     "text": [
      "\n",
      "100%|██████████| 12/12 [00:00<00:00, 181.91it/s]"
     ]
    },
    {
     "name": "stdout",
     "output_type": "stream",
     "text": [
      "2022-06-25 14:02:58,873 INFO  src.learner.AnnLearner:173 - Epoch: 13 --- Training loss: 0.7524703086012661 --- Train acc: 0.7965651834504294 --- Val loss: 0.8964318633079529 --- Val acc: 0.6643258426966292Time: 5.819746255874634s\n",
      "2022-06-25 14:02:58,873 INFO  src.learner.AnnLearner:177 - Start testing\n"
     ]
    },
    {
     "name": "stderr",
     "output_type": "stream",
     "text": [
      "\n",
      "100%|██████████| 13/13 [00:00<00:00, 109.65it/s]"
     ]
    },
    {
     "name": "stdout",
     "output_type": "stream",
     "text": [
      "2022-06-25 14:02:59,004 INFO  src.learner.AnnLearner:151 - Detail result for testing\n",
      "+--------------------+-------------------+-------------------+\n",
      "|      f1_score      |   recall_score    |  accuracy_score   |\n",
      "+--------------------+-------------------+-------------------+\n",
      "| 0.6430001135298746 | 0.706700379266751 | 0.706700379266751 |\n",
      "+--------------------+-------------------+-------------------+\n",
      "2022-06-25 14:02:59,006 INFO  src.learner.AnnLearner:160 - Start Training\n"
     ]
    },
    {
     "name": "stderr",
     "output_type": "stream",
     "text": [
      "\n",
      "100%|██████████| 101/101 [00:08<00:00, 12.51it/s]"
     ]
    },
    {
     "name": "stdout",
     "output_type": "stream",
     "text": [
      "2022-06-25 14:03:07,087 INFO  src.learner.AnnLearner:165 - Start evaluate\n"
     ]
    },
    {
     "name": "stderr",
     "output_type": "stream",
     "text": [
      "\n",
      "100%|██████████| 12/12 [00:00<00:00, 167.41it/s]"
     ]
    },
    {
     "name": "stdout",
     "output_type": "stream",
     "text": [
      "2022-06-25 14:03:07,163 INFO  src.learner.AnnLearner:173 - Epoch: 14 --- Training loss: 0.7495604647268163 --- Train acc: 0.7968774395003904 --- Val loss: 0.8701229343811671 --- Val acc: 0.6699438202247191Time: 8.15756869316101s\n",
      "2022-06-25 14:03:07,164 INFO  src.learner.AnnLearner:177 - Start testing\n"
     ]
    },
    {
     "name": "stderr",
     "output_type": "stream",
     "text": [
      "\n",
      "100%|██████████| 13/13 [00:00<00:00, 169.36it/s]"
     ]
    },
    {
     "name": "stdout",
     "output_type": "stream",
     "text": [
      "2022-06-25 14:03:07,253 INFO  src.learner.AnnLearner:151 - Detail result for testing\n",
      "+--------------------+--------------------+--------------------+\n",
      "|      f1_score      |    recall_score    |   accuracy_score   |\n",
      "+--------------------+--------------------+--------------------+\n",
      "| 0.6537712553048532 | 0.7168141592920354 | 0.7168141592920354 |\n",
      "+--------------------+--------------------+--------------------+\n",
      "2022-06-25 14:03:07,254 INFO  src.learner.AnnLearner:160 - Start Training\n"
     ]
    },
    {
     "name": "stderr",
     "output_type": "stream",
     "text": [
      "\n",
      "100%|██████████| 101/101 [00:05<00:00, 16.99it/s]"
     ]
    },
    {
     "name": "stdout",
     "output_type": "stream",
     "text": [
      "2022-06-25 14:03:13,210 INFO  src.learner.AnnLearner:165 - Start evaluate\n"
     ]
    },
    {
     "name": "stderr",
     "output_type": "stream",
     "text": [
      "\n",
      "100%|██████████| 12/12 [00:00<00:00, 141.27it/s]"
     ]
    },
    {
     "name": "stdout",
     "output_type": "stream",
     "text": [
      "2022-06-25 14:03:13,300 INFO  src.learner.AnnLearner:173 - Epoch: 15 --- Training loss: 0.7445382198484818 --- Train acc: 0.8020296643247463 --- Val loss: 0.8612426122029623 --- Val acc: 0.6671348314606742Time: 6.046487092971802s\n",
      "2022-06-25 14:03:13,302 INFO  src.learner.AnnLearner:177 - Start testing\n"
     ]
    },
    {
     "name": "stderr",
     "output_type": "stream",
     "text": [
      "\n",
      "100%|██████████| 13/13 [00:00<00:00, 167.11it/s]"
     ]
    },
    {
     "name": "stdout",
     "output_type": "stream",
     "text": [
      "2022-06-25 14:03:13,390 INFO  src.learner.AnnLearner:151 - Detail result for testing\n",
      "+--------------------+--------------------+--------------------+\n",
      "|      f1_score      |    recall_score    |   accuracy_score   |\n",
      "+--------------------+--------------------+--------------------+\n",
      "| 0.6575185950096228 | 0.7206068268015171 | 0.7206068268015171 |\n",
      "+--------------------+--------------------+--------------------+\n",
      "2022-06-25 14:03:13,392 INFO  src.learner.AnnLearner:160 - Start Training\n"
     ]
    },
    {
     "name": "stderr",
     "output_type": "stream",
     "text": [
      "\n",
      "100%|██████████| 101/101 [00:05<00:00, 17.63it/s]"
     ]
    },
    {
     "name": "stdout",
     "output_type": "stream",
     "text": [
      "2022-06-25 14:03:19,131 INFO  src.learner.AnnLearner:165 - Start evaluate\n"
     ]
    },
    {
     "name": "stderr",
     "output_type": "stream",
     "text": [
      "\n",
      "100%|██████████| 12/12 [00:00<00:00, 146.03it/s]"
     ]
    },
    {
     "name": "stdout",
     "output_type": "stream",
     "text": [
      "2022-06-25 14:03:19,221 INFO  src.learner.AnnLearner:173 - Epoch: 16 --- Training loss: 0.7437219967936525 --- Train acc: 0.8026541764246682 --- Val loss: 0.8659915626049042 --- Val acc: 0.6671348314606742Time: 5.829331874847412s\n",
      "2022-06-25 14:03:19,221 INFO  src.learner.AnnLearner:177 - Start testing\n"
     ]
    },
    {
     "name": "stderr",
     "output_type": "stream",
     "text": [
      "\n",
      "100%|██████████| 13/13 [00:00<00:00, 108.23it/s]"
     ]
    },
    {
     "name": "stdout",
     "output_type": "stream",
     "text": [
      "2022-06-25 14:03:19,355 INFO  src.learner.AnnLearner:151 - Detail result for testing\n",
      "+--------------------+--------------------+--------------------+\n",
      "|      f1_score      |    recall_score    |   accuracy_score   |\n",
      "+--------------------+--------------------+--------------------+\n",
      "| 0.6495284014539301 | 0.7130214917825537 | 0.7130214917825537 |\n",
      "+--------------------+--------------------+--------------------+\n",
      "2022-06-25 14:03:19,357 INFO  src.learner.AnnLearner:160 - Start Training\n"
     ]
    },
    {
     "name": "stderr",
     "output_type": "stream",
     "text": [
      "\n",
      "100%|██████████| 101/101 [00:07<00:00, 12.74it/s]"
     ]
    },
    {
     "name": "stdout",
     "output_type": "stream",
     "text": [
      "2022-06-25 14:03:27,300 INFO  src.learner.AnnLearner:165 - Start evaluate\n"
     ]
    },
    {
     "name": "stderr",
     "output_type": "stream",
     "text": [
      "\n",
      "100%|██████████| 12/12 [00:00<00:00, 76.24it/s]"
     ]
    },
    {
     "name": "stdout",
     "output_type": "stream",
     "text": [
      "2022-06-25 14:03:27,465 INFO  src.learner.AnnLearner:173 - Epoch: 17 --- Training loss: 0.7401989598085384 --- Train acc: 0.8034348165495706 --- Val loss: 0.8779129832983017 --- Val acc: 0.6629213483146067Time: 8.108625650405884s\n",
      "2022-06-25 14:03:27,466 INFO  src.learner.AnnLearner:177 - Start testing\n"
     ]
    },
    {
     "name": "stderr",
     "output_type": "stream",
     "text": [
      "\n",
      "100%|██████████| 13/13 [00:00<00:00, 50.41it/s]"
     ]
    },
    {
     "name": "stdout",
     "output_type": "stream",
     "text": [
      "2022-06-25 14:03:27,746 INFO  src.learner.AnnLearner:151 - Detail result for testing\n",
      "+--------------------+--------------------+--------------------+\n",
      "|      f1_score      |    recall_score    |   accuracy_score   |\n",
      "+--------------------+--------------------+--------------------+\n",
      "| 0.6467554468426067 | 0.7104930467762326 | 0.7104930467762326 |\n",
      "+--------------------+--------------------+--------------------+\n",
      "2022-06-25 14:03:27,750 INFO  src.learner.AnnLearner:160 - Start Training\n"
     ]
    },
    {
     "name": "stderr",
     "output_type": "stream",
     "text": [
      "\n",
      "100%|██████████| 101/101 [00:10<00:00,  9.88it/s]"
     ]
    },
    {
     "name": "stdout",
     "output_type": "stream",
     "text": [
      "2022-06-25 14:03:37,994 INFO  src.learner.AnnLearner:165 - Start evaluate\n"
     ]
    },
    {
     "name": "stderr",
     "output_type": "stream",
     "text": [
      "\n",
      "100%|██████████| 12/12 [00:00<00:00, 93.37it/s]"
     ]
    },
    {
     "name": "stdout",
     "output_type": "stream",
     "text": [
      "2022-06-25 14:03:38,130 INFO  src.learner.AnnLearner:173 - Epoch: 18 --- Training loss: 0.7356951525895903 --- Train acc: 0.8004683840749415 --- Val loss: 0.8714599212010702 --- Val acc: 0.6573033707865169Time: 10.379992485046387s\n",
      "2022-06-25 14:03:38,131 INFO  src.learner.AnnLearner:177 - Start testing\n"
     ]
    },
    {
     "name": "stderr",
     "output_type": "stream",
     "text": [
      "\n",
      "100%|██████████| 13/13 [00:00<00:00, 75.77it/s]"
     ]
    },
    {
     "name": "stdout",
     "output_type": "stream",
     "text": [
      "2022-06-25 14:03:38,319 INFO  src.learner.AnnLearner:151 - Detail result for testing\n"
     ]
    },
    {
     "name": "stderr",
     "output_type": "stream",
     "text": [
      "\n"
     ]
    },
    {
     "name": "stdout",
     "output_type": "stream",
     "text": [
      "+--------------------+-------------------+-------------------+\n",
      "|      f1_score      |   recall_score    |  accuracy_score   |\n",
      "+--------------------+-------------------+-------------------+\n",
      "| 0.6420367972690759 | 0.706700379266751 | 0.706700379266751 |\n",
      "+--------------------+-------------------+-------------------+\n",
      "2022-06-25 14:03:38,321 INFO  src.learner.AnnLearner:160 - Start Training\n"
     ]
    },
    {
     "name": "stderr",
     "output_type": "stream",
     "text": [
      "100%|██████████| 101/101 [00:06<00:00, 15.28it/s]"
     ]
    },
    {
     "name": "stdout",
     "output_type": "stream",
     "text": [
      "2022-06-25 14:03:44,941 INFO  src.learner.AnnLearner:165 - Start evaluate\n"
     ]
    },
    {
     "name": "stderr",
     "output_type": "stream",
     "text": [
      "\n",
      "100%|██████████| 12/12 [00:00<00:00, 131.29it/s]"
     ]
    },
    {
     "name": "stdout",
     "output_type": "stream",
     "text": [
      "2022-06-25 14:03:45,038 INFO  src.learner.AnnLearner:173 - Epoch: 19 --- Training loss: 0.7312633271264558 --- Train acc: 0.7993754879000781 --- Val loss: 0.87486132979393 --- Val acc: 0.6657303370786517Time: 6.7165586948394775s\n",
      "2022-06-25 14:03:45,039 INFO  src.learner.AnnLearner:177 - Start testing\n"
     ]
    },
    {
     "name": "stderr",
     "output_type": "stream",
     "text": [
      "\n",
      "100%|██████████| 13/13 [00:00<00:00, 149.44it/s]"
     ]
    },
    {
     "name": "stdout",
     "output_type": "stream",
     "text": [
      "2022-06-25 14:03:45,138 INFO  src.learner.AnnLearner:151 - Detail result for testing\n",
      "+--------------------+--------------------+--------------------+\n",
      "|      f1_score      |    recall_score    |   accuracy_score   |\n",
      "+--------------------+--------------------+--------------------+\n",
      "| 0.6482886957004225 | 0.7117572692793932 | 0.7117572692793932 |\n",
      "+--------------------+--------------------+--------------------+\n"
     ]
    },
    {
     "name": "stderr",
     "output_type": "stream",
     "text": [
      "\n"
     ]
    }
   ],
   "source": [
    "ann_leaner.fit()"
   ]
  },
  {
   "cell_type": "code",
   "execution_count": 15,
   "metadata": {},
   "outputs": [],
   "source": [
    "import pickle\n",
    "with open(f'assets/report/ann_report.pk', 'rb') as fin:\n",
    "    ann_report = pickle.load(fin)"
   ]
  },
  {
   "cell_type": "code",
   "execution_count": 16,
   "metadata": {},
   "outputs": [],
   "source": [
    "import matplotlib.pyplot as plt"
   ]
  },
  {
   "cell_type": "code",
   "execution_count": 17,
   "metadata": {},
   "outputs": [
    {
     "data": {
      "image/png": "[encoded data removed]",
      "text/plain": [
       "<Figure size 432x288 with 1 Axes>"
      ]
     },
     "metadata": {
      "needs_background": "light"
     },
     "output_type": "display_data"
    }
   ],
   "source": [
    "title = []\n",
    "for key in ann_report:\n",
    "    if 'acc' in key:\n",
    "        plt.plot(ann_report[key])\n",
    "        title.append(key)\n",
    "plt.legend(title)\n",
    "plt.show()"
   ]
  },
  {
   "cell_type": "code",
   "execution_count": 18,
   "metadata": {},
   "outputs": [
    {
     "data": {
      "image/png": "[encoded data removed]",
      "text/plain": [
       "<Figure size 432x288 with 1 Axes>"
      ]
     },
     "metadata": {
      "needs_background": "light"
     },
     "output_type": "display_data"
    }
   ],
   "source": [
    "title = []\n",
    "for key in ann_report:\n",
    "    if 'acc' not in key:\n",
    "        plt.plot(ann_report[key])\n",
    "        title.append(key)\n",
    "plt.legend(title)\n",
    "plt.show()"
   ]
  },
  {
   "cell_type": "code",
   "execution_count": null,
   "metadata": {},
   "outputs": [],
   "source": []
  }
 ],
 "metadata": {
  "kernelspec": {
   "display_name": "Python 3.9.7 ('base')",
   "language": "python",
   "name": "python3"
  },
  "language_info": {
   "codemirror_mode": {
    "name": "ipython",
    "version": 3
   },
   "file_extension": ".py",
   "mimetype": "text/x-python",
   "name": "python",
   "nbconvert_exporter": "python",
   "pygments_lexer": "ipython3",
   "version": "3.9.7"
  },
  "orig_nbformat": 4,
  "vscode": {
   "interpreter": {
    "hash": "fe4737cf0a41cf5e93c7bf4b9dc2d43d3c69fc85d82c68e3039db569ea2744e9"
   }
  }
 },
 "nbformat": 4,
 "nbformat_minor": 2
}
