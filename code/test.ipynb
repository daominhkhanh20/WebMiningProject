{
 "cells": [
  {
   "cell_type": "code",
   "execution_count": 1,
   "metadata": {},
   "outputs": [
    {
     "name": "stderr",
     "output_type": "stream",
     "text": [
      "\u001b[32m2022-06-25 17:24:02\u001b[0m \u001b[35mDESKTOP-P91LQ96\u001b[0m \u001b[34mnumexpr.utils[8160]\u001b[0m \u001b[1;30mINFO\u001b[0m NumExpr defaulting to 8 threads.\n"
     ]
    }
   ],
   "source": [
    "from src.dataset import AnnCommentDataset,AnnDataSource"
   ]
  },
  {
   "cell_type": "code",
   "execution_count": 2,
   "metadata": {},
   "outputs": [],
   "source": [
    "from src.learner import AnnLearner"
   ]
  },
  {
   "cell_type": "code",
   "execution_count": 3,
   "metadata": {},
   "outputs": [
    {
     "name": "stdout",
     "output_type": "stream",
     "text": [
      "2022-06-25 17:24:51,224 INFO  src.dataset.ann_datasource:36 - Start convert file final_test.csv to dataset\n",
      "2022-06-25 17:24:51,225 INFO  src.dataset.ann_datasource:36 - Start convert file final_train.csv to dataset\n",
      "2022-06-25 17:24:51,997 INFO  src.dataset.ann_datasource:47 - {'positive': 0, 'negative': 1, 'neural': 2}\n",
      "2022-06-25 17:24:51,998 INFO  src.dataset.ann_datasource:36 - Start convert file final_val.csv to dataset\n"
     ]
    }
   ],
   "source": [
    "datasource = AnnDataSource.init_datasource()"
   ]
  },
  {
   "cell_type": "code",
   "execution_count": 4,
   "metadata": {},
   "outputs": [],
   "source": [
    "ann_leaner = AnnLearner(mode='training',data_source=datasource,n_epochs=20,is_save_best_model=True,learning_rate=1e-4)"
   ]
  },
  {
   "cell_type": "code",
   "execution_count": 5,
   "metadata": {},
   "outputs": [
    {
     "name": "stdout",
     "output_type": "stream",
     "text": [
      "2022-06-25 17:24:53,863 INFO  src.learner.AnnLearner:172 - Start Training\n"
     ]
    },
    {
     "name": "stderr",
     "output_type": "stream",
     "text": [
      "100%|██████████| 101/101 [00:07<00:00, 13.78it/s]"
     ]
    },
    {
     "name": "stdout",
     "output_type": "stream",
     "text": [
      "2022-06-25 17:25:01,358 INFO  src.learner.AnnLearner:177 - Start evaluate\n"
     ]
    },
    {
     "name": "stderr",
     "output_type": "stream",
     "text": [
      "\n",
      "100%|██████████| 12/12 [00:00<00:00, 132.49it/s]"
     ]
    },
    {
     "name": "stdout",
     "output_type": "stream",
     "text": [
      "              precision    recall  f1-score   support\n",
      "\n",
      "    positive       0.50      1.00      0.66       354\n",
      "    negative       0.00      0.00      0.00       221\n",
      "      neural       0.00      0.00      0.00       137\n",
      "\n",
      "    accuracy                           0.50       712\n",
      "   macro avg       0.17      0.33      0.22       712\n",
      "weighted avg       0.25      0.50      0.33       712\n",
      "\n",
      "2022-06-25 17:25:01,541 INFO  src.learner.AnnLearner:134 - Save model done\n"
     ]
    },
    {
     "name": "stderr",
     "output_type": "stream",
     "text": [
      "\n"
     ]
    },
    {
     "name": "stdout",
     "output_type": "stream",
     "text": [
      "2022-06-25 17:25:01,542 INFO  src.learner.AnnLearner:185 - Epoch: 0 --- Training loss: 1.069728928037209 --- Train acc: 0.5081967213114754 --- Val loss: 1.064755380153656 --- Val acc: 0.49719101123595505Time: 7.679730176925659s\n",
      "2022-06-25 17:25:01,543 INFO  src.learner.AnnLearner:189 - Start testing\n"
     ]
    },
    {
     "name": "stderr",
     "output_type": "stream",
     "text": [
      "100%|██████████| 13/13 [00:00<00:00, 126.18it/s]"
     ]
    },
    {
     "name": "stdout",
     "output_type": "stream",
     "text": [
      "2022-06-25 17:25:01,656 INFO  src.learner.AnnLearner:162 - Detail result for testing\n"
     ]
    },
    {
     "name": "stderr",
     "output_type": "stream",
     "text": [
      "\n"
     ]
    },
    {
     "name": "stdout",
     "output_type": "stream",
     "text": [
      "+---------------------+--------------------+--------------------+\n",
      "|      f1_score       |    recall_score    |   accuracy_score   |\n",
      "+---------------------+--------------------+--------------------+\n",
      "| 0.35533066465288576 | 0.5195954487989887 | 0.5195954487989887 |\n",
      "+---------------------+--------------------+--------------------+\n",
      "              precision    recall  f1-score   support\n",
      "\n",
      "    positive       0.52      1.00      0.68       411\n",
      "    negative       0.00      0.00      0.00       254\n",
      "      neural       0.00      0.00      0.00       126\n",
      "\n",
      "    accuracy                           0.52       791\n",
      "   macro avg       0.17      0.33      0.23       791\n",
      "weighted avg       0.27      0.52      0.36       791\n",
      "\n",
      "2022-06-25 17:25:01,761 INFO  src.learner.AnnLearner:172 - Start Training\n"
     ]
    },
    {
     "name": "stderr",
     "output_type": "stream",
     "text": [
      "100%|██████████| 101/101 [00:05<00:00, 18.94it/s]"
     ]
    },
    {
     "name": "stdout",
     "output_type": "stream",
     "text": [
      "2022-06-25 17:25:07,104 INFO  src.learner.AnnLearner:177 - Start evaluate\n"
     ]
    },
    {
     "name": "stderr",
     "output_type": "stream",
     "text": [
      "\n",
      "100%|██████████| 12/12 [00:00<00:00, 146.22it/s]\n"
     ]
    },
    {
     "name": "stdout",
     "output_type": "stream",
     "text": [
      "              precision    recall  f1-score   support\n",
      "\n",
      "    positive       0.50      1.00      0.66       354\n",
      "    negative       0.00      0.00      0.00       221\n",
      "      neural       0.00      0.00      0.00       137\n",
      "\n",
      "    accuracy                           0.50       712\n",
      "   macro avg       0.17      0.33      0.22       712\n",
      "weighted avg       0.25      0.50      0.33       712\n",
      "\n",
      "2022-06-25 17:25:07,200 INFO  src.learner.AnnLearner:185 - Epoch: 1 --- Training loss: 1.0095009272641475 --- Train acc: 0.5227166276346604 --- Val loss: 0.9825702706972758 --- Val acc: 0.49719101123595505Time: 5.438997268676758s\n",
      "2022-06-25 17:25:07,201 INFO  src.learner.AnnLearner:189 - Start testing\n"
     ]
    },
    {
     "name": "stderr",
     "output_type": "stream",
     "text": [
      "100%|██████████| 13/13 [00:00<00:00, 122.46it/s]"
     ]
    },
    {
     "name": "stdout",
     "output_type": "stream",
     "text": [
      "2022-06-25 17:25:07,317 INFO  src.learner.AnnLearner:162 - Detail result for testing\n",
      "+---------------------+--------------------+--------------------+\n",
      "|      f1_score       |    recall_score    |   accuracy_score   |\n",
      "+---------------------+--------------------+--------------------+\n",
      "| 0.35533066465288576 | 0.5195954487989887 | 0.5195954487989887 |\n",
      "+---------------------+--------------------+--------------------+\n",
      "              precision    recall  f1-score   support\n",
      "\n",
      "    positive       0.52      1.00      0.68       411\n",
      "    negative       0.00      0.00      0.00       254\n",
      "      neural       0.00      0.00      0.00       126\n",
      "\n",
      "    accuracy                           0.52       791\n",
      "   macro avg       0.17      0.33      0.23       791\n",
      "weighted avg       0.27      0.52      0.36       791\n",
      "\n",
      "2022-06-25 17:25:07,325 INFO  src.learner.AnnLearner:172 - Start Training\n"
     ]
    },
    {
     "name": "stderr",
     "output_type": "stream",
     "text": [
      "\n",
      "100%|██████████| 101/101 [00:05<00:00, 19.81it/s]"
     ]
    },
    {
     "name": "stdout",
     "output_type": "stream",
     "text": [
      "2022-06-25 17:25:12,434 INFO  src.learner.AnnLearner:177 - Start evaluate\n"
     ]
    },
    {
     "name": "stderr",
     "output_type": "stream",
     "text": [
      "\n",
      "100%|██████████| 12/12 [00:00<00:00, 109.49it/s]"
     ]
    },
    {
     "name": "stdout",
     "output_type": "stream",
     "text": [
      "              precision    recall  f1-score   support\n",
      "\n",
      "    positive       0.68      0.93      0.78       354\n",
      "    negative       0.64      0.65      0.65       221\n",
      "      neural       0.00      0.00      0.00       137\n",
      "\n",
      "    accuracy                           0.67       712\n",
      "   macro avg       0.44      0.53      0.48       712\n",
      "weighted avg       0.54      0.67      0.59       712\n",
      "\n",
      "2022-06-25 17:25:12,579 INFO  src.learner.AnnLearner:134 - Save model done\n"
     ]
    },
    {
     "name": "stderr",
     "output_type": "stream",
     "text": [
      "\n"
     ]
    },
    {
     "name": "stdout",
     "output_type": "stream",
     "text": [
      "2022-06-25 17:25:12,580 INFO  src.learner.AnnLearner:185 - Epoch: 2 --- Training loss: 0.9155545925149823 --- Train acc: 0.5734582357533177 --- Val loss: 0.9168673207362493 --- Val acc: 0.6657303370786517Time: 5.255348205566406s\n",
      "2022-06-25 17:25:12,581 INFO  src.learner.AnnLearner:189 - Start testing\n"
     ]
    },
    {
     "name": "stderr",
     "output_type": "stream",
     "text": [
      "100%|██████████| 13/13 [00:00<00:00, 124.77it/s]"
     ]
    },
    {
     "name": "stdout",
     "output_type": "stream",
     "text": [
      "2022-06-25 17:25:12,695 INFO  src.learner.AnnLearner:162 - Detail result for testing\n",
      "+--------------------+--------------------+--------------------+\n",
      "|      f1_score      |    recall_score    |   accuracy_score   |\n",
      "+--------------------+--------------------+--------------------+\n",
      "| 0.6392690983201389 | 0.7029077117572693 | 0.7029077117572693 |\n",
      "+--------------------+--------------------+--------------------+\n",
      "              precision    recall  f1-score   support\n",
      "\n",
      "    positive       0.70      0.92      0.80       411\n",
      "    negative       0.71      0.70      0.70       254\n",
      "      neural       0.00      0.00      0.00       126\n",
      "\n",
      "    accuracy                           0.70       791\n",
      "   macro avg       0.47      0.54      0.50       791\n",
      "weighted avg       0.59      0.70      0.64       791\n",
      "\n",
      "2022-06-25 17:25:12,705 INFO  src.learner.AnnLearner:172 - Start Training\n"
     ]
    },
    {
     "name": "stderr",
     "output_type": "stream",
     "text": [
      "\n",
      "100%|██████████| 101/101 [00:04<00:00, 20.74it/s]"
     ]
    },
    {
     "name": "stdout",
     "output_type": "stream",
     "text": [
      "2022-06-25 17:25:17,587 INFO  src.learner.AnnLearner:177 - Start evaluate\n"
     ]
    },
    {
     "name": "stderr",
     "output_type": "stream",
     "text": [
      "\n",
      "100%|██████████| 12/12 [00:00<00:00, 161.99it/s]"
     ]
    },
    {
     "name": "stdout",
     "output_type": "stream",
     "text": [
      "              precision    recall  f1-score   support\n",
      "\n",
      "    positive       0.77      0.83      0.80       354\n",
      "    negative       0.57      0.85      0.68       221\n",
      "      neural       0.00      0.00      0.00       137\n",
      "\n",
      "    accuracy                           0.68       712\n",
      "   macro avg       0.45      0.56      0.49       712\n",
      "weighted avg       0.56      0.68      0.61       712\n",
      "\n",
      "2022-06-25 17:25:17,693 INFO  src.learner.AnnLearner:134 - Save model done\n",
      "2022-06-25 17:25:17,694 INFO  src.learner.AnnLearner:185 - Epoch: 3 --- Training loss: 0.8658394542070899 --- Train acc: 0.7466042154566744 --- Val loss: 0.8940502901872 --- Val acc: 0.675561797752809Time: 4.98761773109436s\n",
      "2022-06-25 17:25:17,694 INFO  src.learner.AnnLearner:189 - Start testing\n"
     ]
    },
    {
     "name": "stderr",
     "output_type": "stream",
     "text": [
      "\n",
      "100%|██████████| 13/13 [00:00<00:00, 173.51it/s]"
     ]
    },
    {
     "name": "stdout",
     "output_type": "stream",
     "text": [
      "2022-06-25 17:25:17,779 INFO  src.learner.AnnLearner:162 - Detail result for testing\n",
      "+--------------------+--------------------+--------------------+\n",
      "|      f1_score      |    recall_score    |   accuracy_score   |\n",
      "+--------------------+--------------------+--------------------+\n",
      "| 0.6570246441295746 | 0.7155499367888748 | 0.7155499367888748 |\n",
      "+--------------------+--------------------+--------------------+\n",
      "              precision    recall  f1-score   support\n",
      "\n",
      "    positive       0.80      0.84      0.82       411\n",
      "    negative       0.61      0.87      0.72       254\n",
      "      neural       0.00      0.00      0.00       126\n",
      "\n",
      "    accuracy                           0.72       791\n",
      "   macro avg       0.47      0.57      0.51       791\n",
      "weighted avg       0.61      0.72      0.66       791\n",
      "\n",
      "2022-06-25 17:25:17,787 INFO  src.learner.AnnLearner:172 - Start Training\n"
     ]
    },
    {
     "name": "stderr",
     "output_type": "stream",
     "text": [
      "\n",
      "100%|██████████| 101/101 [00:06<00:00, 16.33it/s]"
     ]
    },
    {
     "name": "stdout",
     "output_type": "stream",
     "text": [
      "2022-06-25 17:25:23,984 INFO  src.learner.AnnLearner:177 - Start evaluate\n"
     ]
    },
    {
     "name": "stderr",
     "output_type": "stream",
     "text": [
      "\n",
      "100%|██████████| 12/12 [00:00<00:00, 130.70it/s]"
     ]
    },
    {
     "name": "stdout",
     "output_type": "stream",
     "text": [
      "              precision    recall  f1-score   support\n",
      "\n",
      "    positive       0.78      0.84      0.81       354\n",
      "    negative       0.57      0.86      0.69       221\n",
      "      neural       0.00      0.00      0.00       137\n",
      "\n",
      "    accuracy                           0.68       712\n",
      "   macro avg       0.45      0.57      0.50       712\n",
      "weighted avg       0.57      0.68      0.61       712\n",
      "\n",
      "2022-06-25 17:25:24,117 INFO  src.learner.AnnLearner:134 - Save model done\n"
     ]
    },
    {
     "name": "stderr",
     "output_type": "stream",
     "text": [
      "\n"
     ]
    },
    {
     "name": "stdout",
     "output_type": "stream",
     "text": [
      "2022-06-25 17:25:24,118 INFO  src.learner.AnnLearner:185 - Epoch: 4 --- Training loss: 0.8038536735100321 --- Train acc: 0.7686182669789228 --- Val loss: 0.8705092122157415 --- Val acc: 0.6825842696629213Time: 6.331122636795044s\n",
      "2022-06-25 17:25:24,119 INFO  src.learner.AnnLearner:189 - Start testing\n"
     ]
    },
    {
     "name": "stderr",
     "output_type": "stream",
     "text": [
      "100%|██████████| 13/13 [00:00<00:00, 108.00it/s]"
     ]
    },
    {
     "name": "stdout",
     "output_type": "stream",
     "text": [
      "2022-06-25 17:25:24,254 INFO  src.learner.AnnLearner:162 - Detail result for testing\n"
     ]
    },
    {
     "name": "stderr",
     "output_type": "stream",
     "text": [
      "\n"
     ]
    },
    {
     "name": "stdout",
     "output_type": "stream",
     "text": [
      "+--------------------+--------------------+--------------------+\n",
      "|      f1_score      |    recall_score    |   accuracy_score   |\n",
      "+--------------------+--------------------+--------------------+\n",
      "| 0.6561158760982478 | 0.7142857142857143 | 0.7142857142857143 |\n",
      "+--------------------+--------------------+--------------------+\n",
      "              precision    recall  f1-score   support\n",
      "\n",
      "    positive       0.80      0.84      0.82       411\n",
      "    negative       0.61      0.87      0.72       254\n",
      "      neural       0.00      0.00      0.00       126\n",
      "\n",
      "    accuracy                           0.71       791\n",
      "   macro avg       0.47      0.57      0.51       791\n",
      "weighted avg       0.61      0.71      0.66       791\n",
      "\n",
      "2022-06-25 17:25:24,268 INFO  src.learner.AnnLearner:172 - Start Training\n"
     ]
    },
    {
     "name": "stderr",
     "output_type": "stream",
     "text": [
      "100%|██████████| 101/101 [00:05<00:00, 16.99it/s]"
     ]
    },
    {
     "name": "stdout",
     "output_type": "stream",
     "text": [
      "2022-06-25 17:25:30,229 INFO  src.learner.AnnLearner:177 - Start evaluate\n"
     ]
    },
    {
     "name": "stderr",
     "output_type": "stream",
     "text": [
      "\n",
      "100%|██████████| 12/12 [00:00<00:00, 115.80it/s]"
     ]
    },
    {
     "name": "stdout",
     "output_type": "stream",
     "text": [
      "              precision    recall  f1-score   support\n",
      "\n",
      "    positive       0.75      0.86      0.80       354\n",
      "    negative       0.58      0.81      0.67       221\n",
      "      neural       0.00      0.00      0.00       137\n",
      "\n",
      "    accuracy                           0.68       712\n",
      "   macro avg       0.44      0.55      0.49       712\n",
      "weighted avg       0.55      0.68      0.61       712\n",
      "\n",
      "2022-06-25 17:25:30,349 INFO  src.learner.AnnLearner:185 - Epoch: 5 --- Training loss: 0.7714367609212894 --- Train acc: 0.7795472287275566 --- Val loss: 0.8659433275461197 --- Val acc: 0.675561797752809Time: 6.080474376678467s\n",
      "2022-06-25 17:25:30,350 INFO  src.learner.AnnLearner:189 - Start testing\n"
     ]
    },
    {
     "name": "stderr",
     "output_type": "stream",
     "text": [
      "\n",
      "100%|██████████| 13/13 [00:00<00:00, 119.07it/s]"
     ]
    },
    {
     "name": "stdout",
     "output_type": "stream",
     "text": [
      "2022-06-25 17:25:30,473 INFO  src.learner.AnnLearner:162 - Detail result for testing\n",
      "+--------------------+-------------------+-------------------+\n",
      "|      f1_score      |   recall_score    |  accuracy_score   |\n",
      "+--------------------+-------------------+-------------------+\n",
      "| 0.6479133267216136 | 0.706700379266751 | 0.706700379266751 |\n",
      "+--------------------+-------------------+-------------------+\n",
      "              precision    recall  f1-score   support\n",
      "\n",
      "    positive       0.78      0.85      0.81       411\n",
      "    negative       0.61      0.82      0.70       254\n",
      "      neural       0.00      0.00      0.00       126\n",
      "\n",
      "    accuracy                           0.71       791\n",
      "   macro avg       0.46      0.56      0.51       791\n",
      "weighted avg       0.60      0.71      0.65       791\n",
      "\n",
      "2022-06-25 17:25:30,482 INFO  src.learner.AnnLearner:172 - Start Training\n"
     ]
    },
    {
     "name": "stderr",
     "output_type": "stream",
     "text": [
      "\n",
      "100%|██████████| 101/101 [00:05<00:00, 17.78it/s]"
     ]
    },
    {
     "name": "stdout",
     "output_type": "stream",
     "text": [
      "2022-06-25 17:25:36,174 INFO  src.learner.AnnLearner:177 - Start evaluate\n"
     ]
    },
    {
     "name": "stderr",
     "output_type": "stream",
     "text": [
      "\n",
      "100%|██████████| 12/12 [00:00<00:00, 114.05it/s]"
     ]
    },
    {
     "name": "stdout",
     "output_type": "stream",
     "text": [
      "              precision    recall  f1-score   support\n",
      "\n",
      "    positive       0.73      0.88      0.80       354\n",
      "    negative       0.59      0.77      0.67       221\n",
      "      neural       0.00      0.00      0.00       137\n",
      "\n",
      "    accuracy                           0.68       712\n",
      "   macro avg       0.44      0.55      0.49       712\n",
      "weighted avg       0.55      0.68      0.60       712\n",
      "\n",
      "2022-06-25 17:25:36,302 INFO  src.learner.AnnLearner:185 - Epoch: 6 --- Training loss: 0.7632116167852194 --- Train acc: 0.785167837626854 --- Val loss: 0.8653094271818796 --- Val acc: 0.675561797752809Time: 5.8204665184021s\n",
      "2022-06-25 17:25:36,302 INFO  src.learner.AnnLearner:189 - Start testing\n"
     ]
    },
    {
     "name": "stderr",
     "output_type": "stream",
     "text": [
      "\n",
      "100%|██████████| 13/13 [00:00<00:00, 111.01it/s]"
     ]
    },
    {
     "name": "stdout",
     "output_type": "stream",
     "text": [
      "2022-06-25 17:25:36,430 INFO  src.learner.AnnLearner:162 - Detail result for testing\n",
      "+-------------------+--------------------+--------------------+\n",
      "|     f1_score      |    recall_score    |   accuracy_score   |\n",
      "+-------------------+--------------------+--------------------+\n",
      "| 0.643831637623739 | 0.7029077117572693 | 0.7029077117572693 |\n",
      "+-------------------+--------------------+--------------------+\n",
      "              precision    recall  f1-score   support\n",
      "\n",
      "    positive       0.76      0.85      0.81       411\n",
      "    negative       0.62      0.81      0.70       254\n",
      "      neural       0.00      0.00      0.00       126\n",
      "\n",
      "    accuracy                           0.70       791\n",
      "   macro avg       0.46      0.55      0.50       791\n",
      "weighted avg       0.60      0.70      0.64       791\n",
      "\n",
      "2022-06-25 17:25:36,439 INFO  src.learner.AnnLearner:172 - Start Training\n"
     ]
    },
    {
     "name": "stderr",
     "output_type": "stream",
     "text": [
      "\n",
      "100%|██████████| 101/101 [00:06<00:00, 16.78it/s]"
     ]
    },
    {
     "name": "stdout",
     "output_type": "stream",
     "text": [
      "2022-06-25 17:25:42,468 INFO  src.learner.AnnLearner:177 - Start evaluate\n"
     ]
    },
    {
     "name": "stderr",
     "output_type": "stream",
     "text": [
      "\n",
      "100%|██████████| 12/12 [00:00<00:00, 111.49it/s]"
     ]
    },
    {
     "name": "stdout",
     "output_type": "stream",
     "text": [
      "              precision    recall  f1-score   support\n",
      "\n",
      "    positive       0.76      0.84      0.80       354\n",
      "    negative       0.57      0.82      0.67       221\n",
      "      neural       0.00      0.00      0.00       137\n",
      "\n",
      "    accuracy                           0.67       712\n",
      "   macro avg       0.44      0.56      0.49       712\n",
      "weighted avg       0.55      0.67      0.61       712\n",
      "\n",
      "2022-06-25 17:25:42,588 INFO  src.learner.AnnLearner:185 - Epoch: 7 --- Training loss: 0.75843879491976 --- Train acc: 0.7915690866510539 --- Val loss: 0.8793281515439352 --- Val acc: 0.6741573033707865Time: 6.148519039154053s\n",
      "2022-06-25 17:25:42,589 INFO  src.learner.AnnLearner:189 - Start testing\n"
     ]
    },
    {
     "name": "stderr",
     "output_type": "stream",
     "text": [
      "\n",
      "100%|██████████| 13/13 [00:00<00:00, 111.08it/s]"
     ]
    },
    {
     "name": "stdout",
     "output_type": "stream",
     "text": [
      "2022-06-25 17:25:42,720 INFO  src.learner.AnnLearner:162 - Detail result for testing\n",
      "+--------------------+--------------------+--------------------+\n",
      "|      f1_score      |    recall_score    |   accuracy_score   |\n",
      "+--------------------+--------------------+--------------------+\n",
      "| 0.6491397469776414 | 0.7079646017699115 | 0.7079646017699115 |\n",
      "+--------------------+--------------------+--------------------+\n",
      "              precision    recall  f1-score   support\n",
      "\n",
      "    positive       0.78      0.84      0.81       411\n",
      "    negative       0.62      0.84      0.71       254\n",
      "      neural       0.00      0.00      0.00       126\n",
      "\n",
      "    accuracy                           0.71       791\n",
      "   macro avg       0.47      0.56      0.51       791\n",
      "weighted avg       0.60      0.71      0.65       791\n",
      "\n",
      "2022-06-25 17:25:42,733 INFO  src.learner.AnnLearner:172 - Start Training\n"
     ]
    },
    {
     "name": "stderr",
     "output_type": "stream",
     "text": [
      "\n",
      "100%|██████████| 101/101 [00:05<00:00, 17.25it/s]"
     ]
    },
    {
     "name": "stdout",
     "output_type": "stream",
     "text": [
      "2022-06-25 17:25:48,599 INFO  src.learner.AnnLearner:177 - Start evaluate\n"
     ]
    },
    {
     "name": "stderr",
     "output_type": "stream",
     "text": [
      "\n",
      "100%|██████████| 12/12 [00:00<00:00, 123.05it/s]"
     ]
    },
    {
     "name": "stdout",
     "output_type": "stream",
     "text": [
      "              precision    recall  f1-score   support\n",
      "\n",
      "    positive       0.74      0.86      0.80       354\n",
      "    negative       0.58      0.78      0.67       221\n",
      "      neural       0.00      0.00      0.00       137\n",
      "\n",
      "    accuracy                           0.67       712\n",
      "   macro avg       0.44      0.55      0.49       712\n",
      "weighted avg       0.55      0.67      0.60       712\n",
      "\n",
      "2022-06-25 17:25:48,714 INFO  src.learner.AnnLearner:185 - Epoch: 8 --- Training loss: 0.7539780340572395 --- Train acc: 0.7956284153005464 --- Val loss: 0.8621611893177032 --- Val acc: 0.6713483146067416Time: 5.980876684188843s\n",
      "2022-06-25 17:25:48,714 INFO  src.learner.AnnLearner:189 - Start testing\n"
     ]
    },
    {
     "name": "stderr",
     "output_type": "stream",
     "text": [
      "\n",
      "100%|██████████| 13/13 [00:00<00:00, 99.50it/s]"
     ]
    },
    {
     "name": "stdout",
     "output_type": "stream",
     "text": [
      "2022-06-25 17:25:48,858 INFO  src.learner.AnnLearner:162 - Detail result for testing\n",
      "+--------------------+-------------------+-------------------+\n",
      "|      f1_score      |   recall_score    |  accuracy_score   |\n",
      "+--------------------+-------------------+-------------------+\n",
      "| 0.6467396787087053 | 0.706700379266751 | 0.706700379266751 |\n",
      "+--------------------+-------------------+-------------------+\n",
      "              precision    recall  f1-score   support\n",
      "\n",
      "    positive       0.76      0.87      0.81       411\n",
      "    negative       0.63      0.80      0.70       254\n",
      "      neural       0.00      0.00      0.00       126\n",
      "\n",
      "    accuracy                           0.71       791\n",
      "   macro avg       0.46      0.56      0.50       791\n",
      "weighted avg       0.60      0.71      0.65       791\n",
      "\n",
      "2022-06-25 17:25:48,868 INFO  src.learner.AnnLearner:172 - Start Training\n"
     ]
    },
    {
     "name": "stderr",
     "output_type": "stream",
     "text": [
      "\n",
      "100%|██████████| 101/101 [00:05<00:00, 16.90it/s]"
     ]
    },
    {
     "name": "stdout",
     "output_type": "stream",
     "text": [
      "2022-06-25 17:25:54,857 INFO  src.learner.AnnLearner:177 - Start evaluate\n"
     ]
    },
    {
     "name": "stderr",
     "output_type": "stream",
     "text": [
      "\n",
      "100%|██████████| 12/12 [00:00<00:00, 107.57it/s]"
     ]
    },
    {
     "name": "stdout",
     "output_type": "stream",
     "text": [
      "              precision    recall  f1-score   support\n",
      "\n",
      "    positive       0.76      0.85      0.80       354\n",
      "    negative       0.57      0.83      0.68       221\n",
      "      neural       0.00      0.00      0.00       137\n",
      "\n",
      "    accuracy                           0.68       712\n",
      "   macro avg       0.45      0.56      0.49       712\n",
      "weighted avg       0.56      0.68      0.61       712\n",
      "\n",
      "2022-06-25 17:25:54,981 INFO  src.learner.AnnLearner:185 - Epoch: 9 --- Training loss: 0.7474126166636401 --- Train acc: 0.7979703356752537 --- Val loss: 0.8591440717379252 --- Val acc: 0.6783707865168539Time: 6.112895727157593s\n",
      "2022-06-25 17:25:54,982 INFO  src.learner.AnnLearner:189 - Start testing\n"
     ]
    },
    {
     "name": "stderr",
     "output_type": "stream",
     "text": [
      "\n",
      "100%|██████████| 13/13 [00:00<00:00, 115.68it/s]"
     ]
    },
    {
     "name": "stdout",
     "output_type": "stream",
     "text": [
      "2022-06-25 17:25:55,105 INFO  src.learner.AnnLearner:162 - Detail result for testing\n",
      "+--------------------+--------------------+--------------------+\n",
      "|      f1_score      |    recall_score    |   accuracy_score   |\n",
      "+--------------------+--------------------+--------------------+\n",
      "| 0.6544004482529829 | 0.7142857142857143 | 0.7142857142857143 |\n",
      "+--------------------+--------------------+--------------------+\n",
      "              precision    recall  f1-score   support\n",
      "\n",
      "    positive       0.78      0.85      0.81       411\n",
      "    negative       0.63      0.85      0.72       254\n",
      "      neural       0.00      0.00      0.00       126\n",
      "\n",
      "    accuracy                           0.71       791\n",
      "   macro avg       0.47      0.57      0.51       791\n",
      "weighted avg       0.61      0.71      0.65       791\n",
      "\n",
      "2022-06-25 17:25:55,114 INFO  src.learner.AnnLearner:172 - Start Training\n"
     ]
    },
    {
     "name": "stderr",
     "output_type": "stream",
     "text": [
      "\n",
      "100%|██████████| 101/101 [00:05<00:00, 17.71it/s]"
     ]
    },
    {
     "name": "stdout",
     "output_type": "stream",
     "text": [
      "2022-06-25 17:26:00,828 INFO  src.learner.AnnLearner:177 - Start evaluate\n"
     ]
    },
    {
     "name": "stderr",
     "output_type": "stream",
     "text": [
      "\n",
      "100%|██████████| 12/12 [00:00<00:00, 58.05it/s]"
     ]
    },
    {
     "name": "stdout",
     "output_type": "stream",
     "text": [
      "              precision    recall  f1-score   support\n",
      "\n",
      "    positive       0.75      0.85      0.79       354\n",
      "    negative       0.56      0.79      0.66       221\n",
      "      neural       0.00      0.00      0.00       137\n",
      "\n",
      "    accuracy                           0.67       712\n",
      "   macro avg       0.44      0.55      0.48       712\n",
      "weighted avg       0.55      0.67      0.60       712\n",
      "\n",
      "2022-06-25 17:26:01,047 INFO  src.learner.AnnLearner:185 - Epoch: 10 --- Training loss: 0.743665347595026 --- Train acc: 0.8017174082747853 --- Val loss: 0.8729289670785269 --- Val acc: 0.6671348314606742Time: 5.933354377746582s\n",
      "2022-06-25 17:26:01,048 INFO  src.learner.AnnLearner:189 - Start testing\n"
     ]
    },
    {
     "name": "stderr",
     "output_type": "stream",
     "text": [
      "\n",
      "100%|██████████| 13/13 [00:00<00:00, 95.79it/s] "
     ]
    },
    {
     "name": "stdout",
     "output_type": "stream",
     "text": [
      "2022-06-25 17:26:01,198 INFO  src.learner.AnnLearner:162 - Detail result for testing\n",
      "+--------------------+-------------------+-------------------+\n",
      "|      f1_score      |   recall_score    |  accuracy_score   |\n",
      "+--------------------+-------------------+-------------------+\n",
      "| 0.6471266109227802 | 0.706700379266751 | 0.706700379266751 |\n",
      "+--------------------+-------------------+-------------------+\n",
      "              precision    recall  f1-score   support\n",
      "\n",
      "    positive       0.76      0.86      0.81       411\n",
      "    negative       0.63      0.81      0.71       254\n",
      "      neural       0.00      0.00      0.00       126\n",
      "\n",
      "    accuracy                           0.71       791\n",
      "   macro avg       0.46      0.56      0.51       791\n",
      "weighted avg       0.60      0.71      0.65       791\n",
      "\n",
      "2022-06-25 17:26:01,208 INFO  src.learner.AnnLearner:172 - Start Training\n"
     ]
    },
    {
     "name": "stderr",
     "output_type": "stream",
     "text": [
      "\n",
      "100%|██████████| 101/101 [00:05<00:00, 18.30it/s]\n"
     ]
    },
    {
     "name": "stdout",
     "output_type": "stream",
     "text": [
      "2022-06-25 17:26:06,737 INFO  src.learner.AnnLearner:177 - Start evaluate\n"
     ]
    },
    {
     "name": "stderr",
     "output_type": "stream",
     "text": [
      "100%|██████████| 12/12 [00:00<00:00, 131.34it/s]"
     ]
    },
    {
     "name": "stdout",
     "output_type": "stream",
     "text": [
      "              precision    recall  f1-score   support\n",
      "\n",
      "    positive       0.72      0.87      0.79       354\n",
      "    negative       0.59      0.75      0.66       221\n",
      "      neural       0.00      0.00      0.00       137\n",
      "\n",
      "    accuracy                           0.67       712\n",
      "   macro avg       0.43      0.54      0.48       712\n",
      "weighted avg       0.54      0.67      0.60       712\n",
      "\n",
      "2022-06-25 17:26:06,844 INFO  src.learner.AnnLearner:185 - Epoch: 11 --- Training loss: 0.7397810126295185 --- Train acc: 0.8046838407494146 --- Val loss: 0.8539921343326569 --- Val acc: 0.6657303370786517Time: 5.636035919189453s\n",
      "2022-06-25 17:26:06,845 INFO  src.learner.AnnLearner:189 - Start testing\n"
     ]
    },
    {
     "name": "stderr",
     "output_type": "stream",
     "text": [
      "\n",
      "100%|██████████| 13/13 [00:00<00:00, 106.00it/s]"
     ]
    },
    {
     "name": "stdout",
     "output_type": "stream",
     "text": [
      "2022-06-25 17:26:06,989 INFO  src.learner.AnnLearner:162 - Detail result for testing\n",
      "+--------------------+--------------------+--------------------+\n",
      "|      f1_score      |    recall_score    |   accuracy_score   |\n",
      "+--------------------+--------------------+--------------------+\n",
      "| 0.6479019913450331 | 0.7092288242730721 | 0.7092288242730721 |\n",
      "+--------------------+--------------------+--------------------+\n",
      "              precision    recall  f1-score   support\n",
      "\n",
      "    positive       0.74      0.88      0.81       411\n",
      "    negative       0.65      0.78      0.71       254\n",
      "      neural       0.00      0.00      0.00       126\n",
      "\n",
      "    accuracy                           0.71       791\n",
      "   macro avg       0.47      0.55      0.51       791\n",
      "weighted avg       0.60      0.71      0.65       791\n",
      "\n",
      "2022-06-25 17:26:07,004 INFO  src.learner.AnnLearner:172 - Start Training\n"
     ]
    },
    {
     "name": "stderr",
     "output_type": "stream",
     "text": [
      "\n",
      "100%|██████████| 101/101 [00:05<00:00, 18.10it/s]"
     ]
    },
    {
     "name": "stdout",
     "output_type": "stream",
     "text": [
      "2022-06-25 17:26:12,595 INFO  src.learner.AnnLearner:177 - Start evaluate\n"
     ]
    },
    {
     "name": "stderr",
     "output_type": "stream",
     "text": [
      "\n",
      "100%|██████████| 12/12 [00:00<00:00, 114.29it/s]\n"
     ]
    },
    {
     "name": "stdout",
     "output_type": "stream",
     "text": [
      "              precision    recall  f1-score   support\n",
      "\n",
      "    positive       0.70      0.88      0.78       354\n",
      "    negative       0.59      0.72      0.65       221\n",
      "      neural       0.00      0.00      0.00       137\n",
      "\n",
      "    accuracy                           0.66       712\n",
      "   macro avg       0.43      0.53      0.48       712\n",
      "weighted avg       0.53      0.66      0.59       712\n",
      "\n",
      "2022-06-25 17:26:12,714 INFO  src.learner.AnnLearner:185 - Epoch: 12 --- Training loss: 0.7341646581593126 --- Train acc: 0.8032786885245902 --- Val loss: 0.8670609643061956 --- Val acc: 0.6601123595505618Time: 5.710329055786133s\n",
      "2022-06-25 17:26:12,714 INFO  src.learner.AnnLearner:189 - Start testing\n"
     ]
    },
    {
     "name": "stderr",
     "output_type": "stream",
     "text": [
      "100%|██████████| 13/13 [00:00<00:00, 117.26it/s]"
     ]
    },
    {
     "name": "stdout",
     "output_type": "stream",
     "text": [
      "2022-06-25 17:26:12,842 INFO  src.learner.AnnLearner:162 - Detail result for testing\n",
      "+--------------------+--------------------+--------------------+\n",
      "|      f1_score      |    recall_score    |   accuracy_score   |\n",
      "+--------------------+--------------------+--------------------+\n",
      "| 0.6484044285963095 | 0.7104930467762326 | 0.7104930467762326 |\n",
      "+--------------------+--------------------+--------------------+\n",
      "              precision    recall  f1-score   support\n",
      "\n",
      "    positive       0.73      0.90      0.81       411\n",
      "    negative       0.67      0.75      0.71       254\n",
      "      neural       0.00      0.00      0.00       126\n",
      "\n",
      "    accuracy                           0.71       791\n",
      "   macro avg       0.47      0.55      0.51       791\n",
      "weighted avg       0.60      0.71      0.65       791\n",
      "\n",
      "2022-06-25 17:26:12,856 INFO  src.learner.AnnLearner:172 - Start Training\n"
     ]
    },
    {
     "name": "stderr",
     "output_type": "stream",
     "text": [
      "\n",
      "100%|██████████| 101/101 [00:05<00:00, 17.46it/s]"
     ]
    },
    {
     "name": "stdout",
     "output_type": "stream",
     "text": [
      "2022-06-25 17:26:18,654 INFO  src.learner.AnnLearner:177 - Start evaluate\n"
     ]
    },
    {
     "name": "stderr",
     "output_type": "stream",
     "text": [
      "\n",
      "100%|██████████| 12/12 [00:00<00:00, 104.29it/s]"
     ]
    },
    {
     "name": "stdout",
     "output_type": "stream",
     "text": [
      "              precision    recall  f1-score   support\n",
      "\n",
      "    positive       0.72      0.88      0.79       354\n",
      "    negative       0.62      0.73      0.67       221\n",
      "      neural       0.33      0.05      0.09       137\n",
      "\n",
      "    accuracy                           0.67       712\n",
      "   macro avg       0.56      0.55      0.52       712\n",
      "weighted avg       0.62      0.67      0.62       712\n",
      "\n",
      "2022-06-25 17:26:18,789 INFO  src.learner.AnnLearner:185 - Epoch: 13 --- Training loss: 0.7332444102457254 --- Train acc: 0.8067135050741608 --- Val loss: 0.8413631071647009 --- Val acc: 0.672752808988764Time: 5.932939529418945s\n",
      "2022-06-25 17:26:18,790 INFO  src.learner.AnnLearner:189 - Start testing\n"
     ]
    },
    {
     "name": "stderr",
     "output_type": "stream",
     "text": [
      "\n",
      "100%|██████████| 13/13 [00:00<00:00, 102.14it/s]"
     ]
    },
    {
     "name": "stdout",
     "output_type": "stream",
     "text": [
      "2022-06-25 17:26:18,932 INFO  src.learner.AnnLearner:162 - Detail result for testing\n",
      "+--------------------+--------------------+--------------------+\n",
      "|      f1_score      |    recall_score    |   accuracy_score   |\n",
      "+--------------------+--------------------+--------------------+\n",
      "| 0.6471379191477983 | 0.7029077117572693 | 0.7029077117572693 |\n",
      "+--------------------+--------------------+--------------------+\n",
      "              precision    recall  f1-score   support\n",
      "\n",
      "    positive       0.74      0.90      0.81       411\n",
      "    negative       0.66      0.74      0.70       254\n",
      "      neural       0.09      0.01      0.01       126\n",
      "\n",
      "    accuracy                           0.70       791\n",
      "   macro avg       0.50      0.55      0.51       791\n",
      "weighted avg       0.61      0.70      0.65       791\n",
      "\n",
      "2022-06-25 17:26:18,943 INFO  src.learner.AnnLearner:172 - Start Training\n"
     ]
    },
    {
     "name": "stderr",
     "output_type": "stream",
     "text": [
      "\n",
      "100%|██████████| 101/101 [00:05<00:00, 17.19it/s]"
     ]
    },
    {
     "name": "stdout",
     "output_type": "stream",
     "text": [
      "2022-06-25 17:26:24,826 INFO  src.learner.AnnLearner:177 - Start evaluate\n"
     ]
    },
    {
     "name": "stderr",
     "output_type": "stream",
     "text": [
      "\n",
      "100%|██████████| 12/12 [00:00<00:00, 170.97it/s]"
     ]
    },
    {
     "name": "stdout",
     "output_type": "stream",
     "text": [
      "              precision    recall  f1-score   support\n",
      "\n",
      "    positive       0.77      0.83      0.80       354\n",
      "    negative       0.61      0.71      0.66       221\n",
      "      neural       0.31      0.16      0.21       137\n",
      "\n",
      "    accuracy                           0.66       712\n",
      "   macro avg       0.56      0.57      0.56       712\n",
      "weighted avg       0.63      0.66      0.64       712\n",
      "\n",
      "2022-06-25 17:26:24,911 INFO  src.learner.AnnLearner:185 - Epoch: 14 --- Training loss: 0.7194198600136408 --- Train acc: 0.825136612021858 --- Val loss: 0.8620298107465109 --- Val acc: 0.6643258426966292Time: 5.9676291942596436s\n"
     ]
    },
    {
     "name": "stderr",
     "output_type": "stream",
     "text": [
      "\n"
     ]
    },
    {
     "name": "stdout",
     "output_type": "stream",
     "text": [
      "2022-06-25 17:26:24,913 INFO  src.learner.AnnLearner:189 - Start testing\n"
     ]
    },
    {
     "name": "stderr",
     "output_type": "stream",
     "text": [
      "100%|██████████| 13/13 [00:00<00:00, 108.35it/s]"
     ]
    },
    {
     "name": "stdout",
     "output_type": "stream",
     "text": [
      "2022-06-25 17:26:25,045 INFO  src.learner.AnnLearner:162 - Detail result for testing\n",
      "+--------------------+--------------------+--------------------+\n",
      "|      f1_score      |    recall_score    |   accuracy_score   |\n",
      "+--------------------+--------------------+--------------------+\n",
      "| 0.6713729836818463 | 0.6940581542351454 | 0.6940581542351454 |\n",
      "+--------------------+--------------------+--------------------+\n",
      "              precision    recall  f1-score   support\n",
      "\n",
      "    positive       0.78      0.85      0.81       411\n",
      "    negative       0.68      0.73      0.70       254\n",
      "      neural       0.22      0.12      0.15       126\n",
      "\n",
      "    accuracy                           0.69       791\n",
      "   macro avg       0.56      0.57      0.56       791\n",
      "weighted avg       0.66      0.69      0.67       791\n",
      "\n",
      "2022-06-25 17:26:25,052 INFO  src.learner.AnnLearner:172 - Start Training\n"
     ]
    },
    {
     "name": "stderr",
     "output_type": "stream",
     "text": [
      "\n",
      "100%|██████████| 101/101 [00:06<00:00, 15.83it/s]"
     ]
    },
    {
     "name": "stdout",
     "output_type": "stream",
     "text": [
      "2022-06-25 17:26:31,449 INFO  src.learner.AnnLearner:177 - Start evaluate\n"
     ]
    },
    {
     "name": "stderr",
     "output_type": "stream",
     "text": [
      "\n",
      "100%|██████████| 12/12 [00:00<00:00, 56.92it/s]"
     ]
    },
    {
     "name": "stdout",
     "output_type": "stream",
     "text": [
      "              precision    recall  f1-score   support\n",
      "\n",
      "    positive       0.78      0.81      0.80       354\n",
      "    negative       0.63      0.71      0.67       221\n",
      "      neural       0.33      0.23      0.27       137\n",
      "\n",
      "    accuracy                           0.67       712\n",
      "   macro avg       0.58      0.58      0.58       712\n",
      "weighted avg       0.65      0.67      0.66       712\n",
      "\n",
      "2022-06-25 17:26:31,673 INFO  src.learner.AnnLearner:185 - Epoch: 15 --- Training loss: 0.7122095439693715 --- Train acc: 0.8362217017954723 --- Val loss: 0.8546112428108851 --- Val acc: 0.6671348314606742Time: 6.621161460876465s\n",
      "2022-06-25 17:26:31,674 INFO  src.learner.AnnLearner:189 - Start testing\n"
     ]
    },
    {
     "name": "stderr",
     "output_type": "stream",
     "text": [
      "\n",
      "100%|██████████| 13/13 [00:00<00:00, 134.16it/s]"
     ]
    },
    {
     "name": "stdout",
     "output_type": "stream",
     "text": [
      "2022-06-25 17:26:31,780 INFO  src.learner.AnnLearner:162 - Detail result for testing\n",
      "+--------------------+--------------------+--------------------+\n",
      "|      f1_score      |    recall_score    |   accuracy_score   |\n",
      "+--------------------+--------------------+--------------------+\n",
      "| 0.6735269672990397 | 0.6814159292035398 | 0.6814159292035398 |\n",
      "+--------------------+--------------------+--------------------+\n",
      "              precision    recall  f1-score   support\n",
      "\n",
      "    positive       0.79      0.82      0.81       411\n",
      "    negative       0.68      0.69      0.68       254\n",
      "      neural       0.24      0.20      0.22       126\n",
      "\n",
      "    accuracy                           0.68       791\n",
      "   macro avg       0.57      0.57      0.57       791\n",
      "weighted avg       0.67      0.68      0.67       791\n",
      "\n",
      "2022-06-25 17:26:31,790 INFO  src.learner.AnnLearner:172 - Start Training\n"
     ]
    },
    {
     "name": "stderr",
     "output_type": "stream",
     "text": [
      "\n",
      "100%|██████████| 101/101 [00:05<00:00, 17.69it/s]"
     ]
    },
    {
     "name": "stdout",
     "output_type": "stream",
     "text": [
      "2022-06-25 17:26:37,511 INFO  src.learner.AnnLearner:177 - Start evaluate\n"
     ]
    },
    {
     "name": "stderr",
     "output_type": "stream",
     "text": [
      "\n",
      "100%|██████████| 12/12 [00:00<00:00, 122.43it/s]"
     ]
    },
    {
     "name": "stdout",
     "output_type": "stream",
     "text": [
      "              precision    recall  f1-score   support\n",
      "\n",
      "    positive       0.78      0.81      0.80       354\n",
      "    negative       0.63      0.68      0.66       221\n",
      "      neural       0.32      0.25      0.28       137\n",
      "\n",
      "    accuracy                           0.66       712\n",
      "   macro avg       0.58      0.58      0.58       712\n",
      "weighted avg       0.65      0.66      0.65       712\n",
      "\n",
      "2022-06-25 17:26:37,627 INFO  src.learner.AnnLearner:185 - Epoch: 16 --- Training loss: 0.7067112904964107 --- Train acc: 0.8455893832943013 --- Val loss: 0.8790528476238251 --- Val acc: 0.6643258426966292Time: 5.836483001708984s\n",
      "2022-06-25 17:26:37,628 INFO  src.learner.AnnLearner:189 - Start testing\n"
     ]
    },
    {
     "name": "stderr",
     "output_type": "stream",
     "text": [
      "\n",
      "100%|██████████| 13/13 [00:00<00:00, 120.18it/s]"
     ]
    },
    {
     "name": "stdout",
     "output_type": "stream",
     "text": [
      "2022-06-25 17:26:37,750 INFO  src.learner.AnnLearner:162 - Detail result for testing\n",
      "+-------------------+--------------------+--------------------+\n",
      "|     f1_score      |    recall_score    |   accuracy_score   |\n",
      "+-------------------+--------------------+--------------------+\n",
      "| 0.677595419541133 | 0.6864728192161821 | 0.6864728192161821 |\n",
      "+-------------------+--------------------+--------------------+\n",
      "              precision    recall  f1-score   support\n",
      "\n",
      "    positive       0.79      0.84      0.81       411\n",
      "    negative       0.68      0.68      0.68       254\n",
      "      neural       0.25      0.21      0.23       126\n",
      "\n",
      "    accuracy                           0.69       791\n",
      "   macro avg       0.58      0.57      0.57       791\n",
      "weighted avg       0.67      0.69      0.68       791\n",
      "\n",
      "2022-06-25 17:26:37,760 INFO  src.learner.AnnLearner:172 - Start Training\n"
     ]
    },
    {
     "name": "stderr",
     "output_type": "stream",
     "text": [
      "\n",
      "100%|██████████| 101/101 [00:06<00:00, 15.16it/s]"
     ]
    },
    {
     "name": "stdout",
     "output_type": "stream",
     "text": [
      "2022-06-25 17:26:44,433 INFO  src.learner.AnnLearner:177 - Start evaluate\n"
     ]
    },
    {
     "name": "stderr",
     "output_type": "stream",
     "text": [
      "\n",
      "100%|██████████| 12/12 [00:00<00:00, 114.23it/s]"
     ]
    },
    {
     "name": "stdout",
     "output_type": "stream",
     "text": [
      "              precision    recall  f1-score   support\n",
      "\n",
      "    positive       0.78      0.80      0.79       354\n",
      "    negative       0.64      0.66      0.65       221\n",
      "      neural       0.30      0.26      0.27       137\n",
      "\n",
      "    accuracy                           0.65       712\n",
      "   macro avg       0.57      0.57      0.57       712\n",
      "weighted avg       0.64      0.65      0.65       712\n",
      "\n",
      "2022-06-25 17:26:44,553 INFO  src.learner.AnnLearner:185 - Epoch: 17 --- Training loss: 0.7002625955213414 --- Train acc: 0.8516783762685401 --- Val loss: 0.8720346639553705 --- Val acc: 0.6530898876404494Time: 6.792874336242676s\n",
      "2022-06-25 17:26:44,554 INFO  src.learner.AnnLearner:189 - Start testing\n"
     ]
    },
    {
     "name": "stderr",
     "output_type": "stream",
     "text": [
      "\n",
      "100%|██████████| 13/13 [00:00<00:00, 118.20it/s]"
     ]
    },
    {
     "name": "stdout",
     "output_type": "stream",
     "text": [
      "2022-06-25 17:26:44,678 INFO  src.learner.AnnLearner:162 - Detail result for testing\n",
      "+--------------------+--------------------+--------------------+\n",
      "|      f1_score      |    recall_score    |   accuracy_score   |\n",
      "+--------------------+--------------------+--------------------+\n",
      "| 0.6863977039412286 | 0.6915297092288243 | 0.6915297092288243 |\n",
      "+--------------------+--------------------+--------------------+\n",
      "              precision    recall  f1-score   support\n",
      "\n",
      "    positive       0.79      0.83      0.81       411\n",
      "    negative       0.70      0.69      0.70       254\n",
      "      neural       0.29      0.25      0.27       126\n",
      "\n",
      "    accuracy                           0.69       791\n",
      "   macro avg       0.59      0.59      0.59       791\n",
      "weighted avg       0.68      0.69      0.69       791\n",
      "\n",
      "2022-06-25 17:26:44,692 INFO  src.learner.AnnLearner:172 - Start Training\n"
     ]
    },
    {
     "name": "stderr",
     "output_type": "stream",
     "text": [
      "\n",
      "100%|██████████| 101/101 [00:05<00:00, 17.31it/s]"
     ]
    },
    {
     "name": "stdout",
     "output_type": "stream",
     "text": [
      "2022-06-25 17:26:50,538 INFO  src.learner.AnnLearner:177 - Start evaluate\n"
     ]
    },
    {
     "name": "stderr",
     "output_type": "stream",
     "text": [
      "\n",
      "100%|██████████| 12/12 [00:00<00:00, 114.19it/s]"
     ]
    },
    {
     "name": "stdout",
     "output_type": "stream",
     "text": [
      "              precision    recall  f1-score   support\n",
      "\n",
      "    positive       0.79      0.81      0.79       354\n",
      "    negative       0.64      0.66      0.65       221\n",
      "      neural       0.30      0.26      0.28       137\n",
      "\n",
      "    accuracy                           0.65       712\n",
      "   macro avg       0.57      0.57      0.57       712\n",
      "weighted avg       0.65      0.65      0.65       712\n",
      "\n",
      "2022-06-25 17:26:50,659 INFO  src.learner.AnnLearner:185 - Epoch: 18 --- Training loss: 0.6962759105285795 --- Train acc: 0.8537080405932865 --- Val loss: 0.8949030886093775 --- Val acc: 0.6544943820224719Time: 5.9669647216796875s\n",
      "2022-06-25 17:26:50,660 INFO  src.learner.AnnLearner:189 - Start testing\n"
     ]
    },
    {
     "name": "stderr",
     "output_type": "stream",
     "text": [
      "\n",
      "100%|██████████| 13/13 [00:00<00:00, 126.68it/s]"
     ]
    },
    {
     "name": "stdout",
     "output_type": "stream",
     "text": [
      "2022-06-25 17:26:50,784 INFO  src.learner.AnnLearner:162 - Detail result for testing\n",
      "+--------------------+--------------------+--------------------+\n",
      "|      f1_score      |    recall_score    |   accuracy_score   |\n",
      "+--------------------+--------------------+--------------------+\n",
      "| 0.6779034352229018 | 0.6814159292035398 | 0.6814159292035398 |\n",
      "+--------------------+--------------------+--------------------+\n",
      "              precision    recall  f1-score   support\n",
      "\n",
      "    positive       0.78      0.82      0.80       411\n",
      "    negative       0.71      0.68      0.70       254\n",
      "      neural       0.25      0.24      0.25       126\n",
      "\n",
      "    accuracy                           0.68       791\n",
      "   macro avg       0.58      0.58      0.58       791\n",
      "weighted avg       0.68      0.68      0.68       791\n",
      "\n",
      "2022-06-25 17:26:50,800 INFO  src.learner.AnnLearner:172 - Start Training\n"
     ]
    },
    {
     "name": "stderr",
     "output_type": "stream",
     "text": [
      "\n",
      "100%|██████████| 101/101 [00:06<00:00, 16.34it/s]"
     ]
    },
    {
     "name": "stdout",
     "output_type": "stream",
     "text": [
      "2022-06-25 17:26:56,995 INFO  src.learner.AnnLearner:177 - Start evaluate\n"
     ]
    },
    {
     "name": "stderr",
     "output_type": "stream",
     "text": [
      "\n",
      "100%|██████████| 12/12 [00:00<00:00, 117.93it/s]"
     ]
    },
    {
     "name": "stdout",
     "output_type": "stream",
     "text": [
      "              precision    recall  f1-score   support\n",
      "\n",
      "    positive       0.79      0.80      0.80       354\n",
      "    negative       0.63      0.67      0.65       221\n",
      "      neural       0.33      0.29      0.31       137\n",
      "\n",
      "    accuracy                           0.66       712\n",
      "   macro avg       0.59      0.59      0.59       712\n",
      "weighted avg       0.65      0.66      0.66       712\n",
      "\n",
      "2022-06-25 17:26:57,116 INFO  src.learner.AnnLearner:185 - Epoch: 19 --- Training loss: 0.6936980875411837 --- Train acc: 0.8618266978922716 --- Val loss: 0.8680296242237091 --- Val acc: 0.6615168539325843Time: 6.315974950790405s\n"
     ]
    },
    {
     "name": "stderr",
     "output_type": "stream",
     "text": [
      "\n"
     ]
    },
    {
     "name": "stdout",
     "output_type": "stream",
     "text": [
      "2022-06-25 17:26:57,118 INFO  src.learner.AnnLearner:189 - Start testing\n"
     ]
    },
    {
     "name": "stderr",
     "output_type": "stream",
     "text": [
      "100%|██████████| 13/13 [00:00<00:00, 89.97it/s]"
     ]
    },
    {
     "name": "stdout",
     "output_type": "stream",
     "text": [
      "2022-06-25 17:26:57,275 INFO  src.learner.AnnLearner:162 - Detail result for testing\n"
     ]
    },
    {
     "name": "stderr",
     "output_type": "stream",
     "text": [
      "\n"
     ]
    },
    {
     "name": "stdout",
     "output_type": "stream",
     "text": [
      "+--------------------+--------------------+--------------------+\n",
      "|      f1_score      |    recall_score    |   accuracy_score   |\n",
      "+--------------------+--------------------+--------------------+\n",
      "| 0.6733343612828135 | 0.6763590391908976 | 0.6763590391908976 |\n",
      "+--------------------+--------------------+--------------------+\n",
      "              precision    recall  f1-score   support\n",
      "\n",
      "    positive       0.78      0.81      0.80       411\n",
      "    negative       0.70      0.67      0.68       254\n",
      "      neural       0.25      0.24      0.24       126\n",
      "\n",
      "    accuracy                           0.68       791\n",
      "   macro avg       0.58      0.57      0.58       791\n",
      "weighted avg       0.67      0.68      0.67       791\n",
      "\n"
     ]
    }
   ],
   "source": [
    "ann_leaner.fit()"
   ]
  },
  {
   "cell_type": "code",
   "execution_count": 6,
   "metadata": {},
   "outputs": [],
   "source": [
    "import pickle\n",
    "with open(f'assets/report/ann_report.pk', 'rb') as fin:\n",
    "    ann_report = pickle.load(fin)"
   ]
  },
  {
   "cell_type": "code",
   "execution_count": 7,
   "metadata": {},
   "outputs": [],
   "source": [
    "import matplotlib.pyplot as plt"
   ]
  },
  {
   "cell_type": "code",
   "execution_count": 8,
   "metadata": {},
   "outputs": [
    {
     "data": {
      "image/png": "[encoded data removed]",
      "text/plain": [
       "<Figure size 432x288 with 1 Axes>"
      ]
     },
     "metadata": {
      "needs_background": "light"
     },
     "output_type": "display_data"
    }
   ],
   "source": [
    "title = []\n",
    "for key in ann_report:\n",
    "    if 'acc' in key:\n",
    "        plt.plot(ann_report[key])\n",
    "        title.append(key)\n",
    "plt.legend(title)\n",
    "plt.show()"
   ]
  },
  {
   "cell_type": "code",
   "execution_count": 9,
   "metadata": {},
   "outputs": [
    {
     "data": {
      "image/png": "[encoded data removed]",
      "text/plain": [
       "<Figure size 432x288 with 1 Axes>"
      ]
     },
     "metadata": {
      "needs_background": "light"
     },
     "output_type": "display_data"
    }
   ],
   "source": [
    "title = []\n",
    "for key in ann_report:\n",
    "    if 'acc' not in key:\n",
    "        plt.plot(ann_report[key])\n",
    "        title.append(key)\n",
    "plt.legend(title)\n",
    "plt.show()"
   ]
  },
  {
   "cell_type": "code",
   "execution_count": null,
   "metadata": {},
   "outputs": [],
   "source": []
  }
 ],
 "metadata": {
  "kernelspec": {
   "display_name": "Python 3.9.7 ('base')",
   "language": "python",
   "name": "python3"
  },
  "language_info": {
   "codemirror_mode": {
    "name": "ipython",
    "version": 3
   },
   "file_extension": ".py",
   "mimetype": "text/x-python",
   "name": "python",
   "nbconvert_exporter": "python",
   "pygments_lexer": "ipython3",
   "version": "3.9.7"
  },
  "orig_nbformat": 4,
  "vscode": {
   "interpreter": {
    "hash": "fe4737cf0a41cf5e93c7bf4b9dc2d43d3c69fc85d82c68e3039db569ea2744e9"
   }
  }
 },
 "nbformat": 4,
 "nbformat_minor": 2
}
