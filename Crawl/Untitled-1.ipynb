{
 "cells": [
  {
   "cell_type": "code",
   "execution_count": 1,
   "metadata": {},
   "outputs": [],
   "source": [
    "from GetItemDetail import getItemDetail\n",
    "from GetItemShopID import getItemShopID\n",
    "from comment import Comment\n",
    "import time"
   ]
  },
  {
   "cell_type": "code",
   "execution_count": 2,
   "metadata": {},
   "outputs": [],
   "source": [
    "comment = Comment()"
   ]
  },
  {
   "cell_type": "code",
   "execution_count": 8,
   "metadata": {},
   "outputs": [
    {
     "data": {
      "text/html": [
       "<div>\n",
       "<style scoped>\n",
       "    .dataframe tbody tr th:only-of-type {\n",
       "        vertical-align: middle;\n",
       "    }\n",
       "\n",
       "    .dataframe tbody tr th {\n",
       "        vertical-align: top;\n",
       "    }\n",
       "\n",
       "    .dataframe thead th {\n",
       "        text-align: right;\n",
       "    }\n",
       "</style>\n",
       "<table border=\"1\" class=\"dataframe\">\n",
       "  <thead>\n",
       "    <tr style=\"text-align: right;\">\n",
       "      <th></th>\n",
       "      <th>catid</th>\n",
       "      <th>parent_catid</th>\n",
       "      <th>name</th>\n",
       "      <th>display_name</th>\n",
       "      <th>image</th>\n",
       "      <th>unselected_image</th>\n",
       "      <th>selected_image</th>\n",
       "      <th>level</th>\n",
       "      <th>children</th>\n",
       "      <th>block_buyer_platform</th>\n",
       "    </tr>\n",
       "  </thead>\n",
       "  <tbody>\n",
       "    <tr>\n",
       "      <th>0</th>\n",
       "      <td>11035567</td>\n",
       "      <td>0</td>\n",
       "      <td>Men Clothes</td>\n",
       "      <td>Thời Trang Nam</td>\n",
       "      <td>687f3967b7c2fe6a134a2c11894eea4b</td>\n",
       "      <td>fe2d27d140e1f34855c1bfe3168c1b58</td>\n",
       "      <td>9131b98c529e7ccfffc36193432aa927</td>\n",
       "      <td>1</td>\n",
       "      <td>NaN</td>\n",
       "      <td>NaN</td>\n",
       "    </tr>\n",
       "    <tr>\n",
       "      <th>1</th>\n",
       "      <td>11035639</td>\n",
       "      <td>0</td>\n",
       "      <td>Women Clothes</td>\n",
       "      <td>Thời Trang Nữ</td>\n",
       "      <td>75ea42f9eca124e9cb3cde744c060e4d</td>\n",
       "      <td>293ca6f400001a38f477ef1c8ebe2831</td>\n",
       "      <td>7002b396e4d22be3decacceeef762265</td>\n",
       "      <td>1</td>\n",
       "      <td>NaN</td>\n",
       "      <td>NaN</td>\n",
       "    </tr>\n",
       "    <tr>\n",
       "      <th>2</th>\n",
       "      <td>11036030</td>\n",
       "      <td>0</td>\n",
       "      <td>Mobile &amp; Gadgets</td>\n",
       "      <td>Điện Thoại &amp; Phụ Kiện</td>\n",
       "      <td>31234a27876fb89cd522d7e3db1ba5ca</td>\n",
       "      <td>94fb4fb95a8598e8d31f0853f904c15b</td>\n",
       "      <td>070098d9b3cf1a1d35be2a6ef1bb3cd0</td>\n",
       "      <td>1</td>\n",
       "      <td>NaN</td>\n",
       "      <td>NaN</td>\n",
       "    </tr>\n",
       "    <tr>\n",
       "      <th>3</th>\n",
       "      <td>11036194</td>\n",
       "      <td>0</td>\n",
       "      <td>Moms, Kids &amp; Babies</td>\n",
       "      <td>Mẹ &amp; Bé</td>\n",
       "      <td>099edde1ab31df35bc255912bab54a5e</td>\n",
       "      <td>f91ae14aebd454762ab61136ebcec4e0</td>\n",
       "      <td>9b56c2810b51f8a017b76c3cefc84daf</td>\n",
       "      <td>1</td>\n",
       "      <td>NaN</td>\n",
       "      <td>NaN</td>\n",
       "    </tr>\n",
       "    <tr>\n",
       "      <th>4</th>\n",
       "      <td>11036132</td>\n",
       "      <td>0</td>\n",
       "      <td>Consumer Electronics</td>\n",
       "      <td>Thiết Bị Điện Tử</td>\n",
       "      <td>978b9e4cb61c611aaaf58664fae133c5</td>\n",
       "      <td>4a6a4d8230cf961e18636fbf91bad4b5</td>\n",
       "      <td>067bd7ff52bd0d3700d9b0af722e83c9</td>\n",
       "      <td>1</td>\n",
       "      <td>NaN</td>\n",
       "      <td>NaN</td>\n",
       "    </tr>\n",
       "  </tbody>\n",
       "</table>\n",
       "</div>"
      ],
      "text/plain": [
       "      catid  parent_catid                  name           display_name  \\\n",
       "0  11035567             0           Men Clothes         Thời Trang Nam   \n",
       "1  11035639             0         Women Clothes          Thời Trang Nữ   \n",
       "2  11036030             0      Mobile & Gadgets  Điện Thoại & Phụ Kiện   \n",
       "3  11036194             0   Moms, Kids & Babies                Mẹ & Bé   \n",
       "4  11036132             0  Consumer Electronics       Thiết Bị Điện Tử   \n",
       "\n",
       "                              image                  unselected_image  \\\n",
       "0  687f3967b7c2fe6a134a2c11894eea4b  fe2d27d140e1f34855c1bfe3168c1b58   \n",
       "1  75ea42f9eca124e9cb3cde744c060e4d  293ca6f400001a38f477ef1c8ebe2831   \n",
       "2  31234a27876fb89cd522d7e3db1ba5ca  94fb4fb95a8598e8d31f0853f904c15b   \n",
       "3  099edde1ab31df35bc255912bab54a5e  f91ae14aebd454762ab61136ebcec4e0   \n",
       "4  978b9e4cb61c611aaaf58664fae133c5  4a6a4d8230cf961e18636fbf91bad4b5   \n",
       "\n",
       "                     selected_image  level  children block_buyer_platform  \n",
       "0  9131b98c529e7ccfffc36193432aa927      1       NaN                  NaN  \n",
       "1  7002b396e4d22be3decacceeef762265      1       NaN                  NaN  \n",
       "2  070098d9b3cf1a1d35be2a6ef1bb3cd0      1       NaN                  NaN  \n",
       "3  9b56c2810b51f8a017b76c3cefc84daf      1       NaN                  NaN  \n",
       "4  067bd7ff52bd0d3700d9b0af722e83c9      1       NaN                  NaN  "
      ]
     },
     "execution_count": 8,
     "metadata": {},
     "output_type": "execute_result"
    }
   ],
   "source": [
    "comment.categoryList.head()"
   ]
  },
  {
   "cell_type": "markdown",
   "metadata": {},
   "source": [
    "start -  end: crawl lĩnh vực từ start đến end\n",
    "nb_product : số product crawl"
   ]
  },
  {
   "cell_type": "code",
   "execution_count": 3,
   "metadata": {},
   "outputs": [
    {
     "name": "stdout",
     "output_type": "stream",
     "text": [
      "topic 0 \"Thời Trang Nam\" is runing...\n",
      "Crawl rating: 1\n"
     ]
    },
    {
     "name": "stderr",
     "output_type": "stream",
     "text": [
      "100%|██████████| 60/60 [00:35<00:00,  1.69it/s]\n"
     ]
    },
    {
     "name": "stdout",
     "output_type": "stream",
     "text": [
      "Crawl rating: 2\n"
     ]
    },
    {
     "name": "stderr",
     "output_type": "stream",
     "text": [
      "100%|██████████| 60/60 [00:34<00:00,  1.72it/s]\n"
     ]
    },
    {
     "name": "stdout",
     "output_type": "stream",
     "text": [
      "Crawl rating: 3\n"
     ]
    },
    {
     "name": "stderr",
     "output_type": "stream",
     "text": [
      "100%|██████████| 60/60 [00:27<00:00,  2.16it/s]\n"
     ]
    },
    {
     "name": "stdout",
     "output_type": "stream",
     "text": [
      "Crawl rating: 4\n"
     ]
    },
    {
     "name": "stderr",
     "output_type": "stream",
     "text": [
      "100%|██████████| 60/60 [00:24<00:00,  2.46it/s]\n"
     ]
    },
    {
     "name": "stdout",
     "output_type": "stream",
     "text": [
      "Crawl rating: 5\n"
     ]
    },
    {
     "name": "stderr",
     "output_type": "stream",
     "text": [
      "100%|██████████| 60/60 [00:25<00:00,  2.38it/s]\n"
     ]
    },
    {
     "name": "stdout",
     "output_type": "stream",
     "text": [
      "Crawl rating: 1\n"
     ]
    },
    {
     "name": "stderr",
     "output_type": "stream",
     "text": [
      "100%|██████████| 60/60 [00:29<00:00,  2.06it/s]\n"
     ]
    },
    {
     "name": "stdout",
     "output_type": "stream",
     "text": [
      "Crawl rating: 2\n"
     ]
    },
    {
     "name": "stderr",
     "output_type": "stream",
     "text": [
      "100%|██████████| 60/60 [00:24<00:00,  2.48it/s]\n"
     ]
    },
    {
     "name": "stdout",
     "output_type": "stream",
     "text": [
      "Crawl rating: 3\n"
     ]
    },
    {
     "name": "stderr",
     "output_type": "stream",
     "text": [
      "100%|██████████| 60/60 [00:25<00:00,  2.36it/s]\n"
     ]
    },
    {
     "name": "stdout",
     "output_type": "stream",
     "text": [
      "Crawl rating: 4\n"
     ]
    },
    {
     "name": "stderr",
     "output_type": "stream",
     "text": [
      "100%|██████████| 60/60 [00:24<00:00,  2.46it/s]\n"
     ]
    },
    {
     "name": "stdout",
     "output_type": "stream",
     "text": [
      "Crawl rating: 5\n"
     ]
    },
    {
     "name": "stderr",
     "output_type": "stream",
     "text": [
      "100%|██████████| 60/60 [00:29<00:00,  2.07it/s]\n"
     ]
    }
   ],
   "source": [
    "data = comment.comment_loader(0,1,120)"
   ]
  },
  {
   "cell_type": "code",
   "execution_count": null,
   "metadata": {},
   "outputs": [],
   "source": [
    "data"
   ]
  },
  {
   "cell_type": "code",
   "execution_count": 4,
   "metadata": {},
   "outputs": [],
   "source": [
    "df =[]\n",
    "for item in comment.data_collections.find():\n",
    "    df.append(item)"
   ]
  },
  {
   "cell_type": "code",
   "execution_count": 5,
   "metadata": {},
   "outputs": [],
   "source": [
    "import pandas as pd\n",
    "df = pd.DataFrame(df)"
   ]
  },
  {
   "cell_type": "code",
   "execution_count": 6,
   "metadata": {},
   "outputs": [
    {
     "data": {
      "text/plain": [
       "5    1189\n",
       "4     806\n",
       "3     659\n",
       "1     545\n",
       "2     418\n",
       "Name: rating_star, dtype: int64"
      ]
     },
     "execution_count": 6,
     "metadata": {},
     "output_type": "execute_result"
    }
   ],
   "source": [
    "df['rating_star'].value_counts()"
   ]
  },
  {
   "cell_type": "code",
   "execution_count": null,
   "metadata": {},
   "outputs": [],
   "source": []
  }
 ],
 "metadata": {
  "kernelspec": {
   "display_name": "Python 3.9.7 ('base')",
   "language": "python",
   "name": "python3"
  },
  "language_info": {
   "codemirror_mode": {
    "name": "ipython",
    "version": 3
   },
   "file_extension": ".py",
   "mimetype": "text/x-python",
   "name": "python",
   "nbconvert_exporter": "python",
   "pygments_lexer": "ipython3",
   "version": "3.9.7"
  },
  "orig_nbformat": 4,
  "vscode": {
   "interpreter": {
    "hash": "fe4737cf0a41cf5e93c7bf4b9dc2d43d3c69fc85d82c68e3039db569ea2744e9"
   }
  }
 },
 "nbformat": 4,
 "nbformat_minor": 2
}
